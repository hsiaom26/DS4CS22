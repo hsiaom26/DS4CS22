{
  "nbformat": 4,
  "nbformat_minor": 0,
  "metadata": {
    "colab": {
      "name": "M02_Logistics.ipynb",
      "provenance": [],
      "collapsed_sections": [],
      "toc_visible": true,
      "authorship_tag": "ABX9TyPRZuS46mmW73lNQ9pqcDWb"
    },
    "kernelspec": {
      "name": "python3",
      "display_name": "Python 3"
    },
    "language_info": {
      "name": "python"
    },
    "accelerator": "GPU"
  },
  "cells": [
    {
      "cell_type": "markdown",
      "metadata": {
        "id": "A2Fzhnb4qSVR"
      },
      "source": [
        "## Data Science Logistics\n",
        "\n",
        "### Outline\n",
        "  * Execution Environment: Run on local PC and remote cloud with CUP/GPU.\n",
        "  * Libraries: numpy, pandas, scikit-learn, tensorflow, keras.\n",
        "  * Dataset: Online data sources.\n",
        "  * Orange (I): Visual Programming Tools, Interactive data exploration with visualizations.\n"
      ]
    },
    {
      "cell_type": "markdown",
      "metadata": {
        "id": "KfAqJga9KHfP"
      },
      "source": [
        "### Execution Environment\n"
      ]
    },
    {
      "cell_type": "markdown",
      "metadata": {
        "id": "SWfpMUtYquFM"
      },
      "source": [
        "####Colab\n",
        "\n",
        "[Google Colab](https://colab.research.google.com/notebooks/intro.ipynb?hl=zh-tw) allows you to write and execute Python in your browser, with Zero configuration required,  free access to GPUs, and easy sharing.\n",
        "\n",
        "Google provides a [3-minute video](https://www.youtube.com/watch?v=inN8seMm7UI) introducting Colab.\n",
        "\n",
        "Here are some important functoinalities you MUST know before using colab. <font color=\"red\">They may make you life easier.</font>\n",
        "\n",
        "\n",
        "* **English** version of Colab can be found in \"說明\" (Help).\n",
        "* At the left-hand side of colab, a tab named \"**Code Snippets**\" (\"<>\") can search and insert code snippets example to your colab. For example, you can search \"visualization\" to find several ploting code snippets.\n",
        "* You can link your [**Google Drive**](https://pythonhosted.org/PyDrive/) to your colab, or [**GitHub**](https://docs.github.com/en/github/authenticating-to-github/keeping-your-account-and-data-secure/creating-a-personal-access-token).\n",
        "* Colab is built on the top of Linux OS. You can execute **Linux command** in colab by placing a \"!\" in front of your command, like the following example. All the listed commands can be used in your code.\n"
      ]
    },
    {
      "cell_type": "code",
      "metadata": {
        "colab": {
          "base_uri": "https://localhost:8080/"
        },
        "id": "POWH-tPmBTJs",
        "outputId": "7a5f1208-7780-4e46-c4cf-07ecb37f1142"
      },
      "source": [
        "!ls /bin/"
      ],
      "execution_count": null,
      "outputs": [
        {
          "output_type": "stream",
          "text": [
            "bash\t       hostname       su\n",
            "bunzip2        journalctl     sync\n",
            "bzcat\t       kill\t      systemctl\n",
            "bzcmp\t       kmod\t      systemd\n",
            "bzdiff\t       less\t      systemd-ask-password\n",
            "bzegrep        lessecho       systemd-escape\n",
            "bzexe\t       lessfile       systemd-hwdb\n",
            "bzfgrep        lesskey\t      systemd-inhibit\n",
            "bzgrep\t       lesspipe       systemd-machine-id-setup\n",
            "bzip2\t       ln\t      systemd-notify\n",
            "bzip2recover   login\t      systemd-sysusers\n",
            "bzless\t       loginctl       systemd-tmpfiles\n",
            "bzmore\t       ls\t      systemd-tty-ask-password-agent\n",
            "cat\t       lsblk\t      tar\n",
            "chgrp\t       lsmod\t      tempfile\n",
            "chmod\t       mkdir\t      touch\n",
            "chown\t       mknod\t      true\n",
            "cp\t       mktemp\t      udevadm\n",
            "dash\t       more\t      ulockmgr_server\n",
            "date\t       mount\t      umount\n",
            "dd\t       mountpoint     uname\n",
            "df\t       mv\t      uncompress\n",
            "dir\t       networkctl     vdir\n",
            "dmesg\t       nisdomainname  wdctl\n",
            "dnsdomainname  pidof\t      which\n",
            "domainname     ps\t      ypdomainname\n",
            "echo\t       pwd\t      zcat\n",
            "egrep\t       rbash\t      zcmp\n",
            "false\t       readlink       zdiff\n",
            "fgrep\t       rm\t      zegrep\n",
            "findmnt        rmdir\t      zfgrep\n",
            "fuser\t       run-parts      zforce\n",
            "fusermount     sed\t      zgrep\n",
            "grep\t       sh\t      zless\n",
            "gunzip\t       sh.distrib     zmore\n",
            "gzexe\t       sleep\t      znew\n",
            "gzip\t       stty\n"
          ],
          "name": "stdout"
        }
      ]
    },
    {
      "cell_type": "markdown",
      "metadata": {
        "id": "BxnC32ZRB31u"
      },
      "source": [
        "* Interactive Python provides lots of '**magic commands**, starts with \"%\". Check it out [here](https://nbviewer.jupyter.org/github/ipython/ipython/blob/1.x/examples/notebooks/Cell%20Magics.ipynb).\n",
        "  * time and timeit are very useful for evaluating code performance."
      ]
    },
    {
      "cell_type": "code",
      "metadata": {
        "colab": {
          "base_uri": "https://localhost:8080/",
          "height": 156
        },
        "id": "7UxsuT3WClVk",
        "outputId": "843d43f1-6488-41d6-e278-f2483ac11659"
      },
      "source": [
        "%lsmagic"
      ],
      "execution_count": null,
      "outputs": [
        {
          "output_type": "execute_result",
          "data": {
            "application/json": {
              "cell": {
                "prun": "ExecutionMagics",
                "file": "Other",
                "!": "OSMagics",
                "capture": "ExecutionMagics",
                "timeit": "ExecutionMagics",
                "script": "ScriptMagics",
                "pypy": "Other",
                "system": "OSMagics",
                "perl": "Other",
                "html": "DisplayMagics",
                "bash": "Other",
                "shell": "Other",
                "HTML": "Other",
                "python": "Other",
                "SVG": "Other",
                "javascript": "DisplayMagics",
                "bigquery": "Other",
                "js": "DisplayMagics",
                "writefile": "OSMagics",
                "ruby": "Other",
                "python3": "Other",
                "python2": "Other",
                "latex": "DisplayMagics",
                "sx": "OSMagics",
                "svg": "DisplayMagics",
                "sh": "Other",
                "time": "ExecutionMagics",
                "debug": "ExecutionMagics"
              },
              "line": {
                "psource": "NamespaceMagics",
                "logstart": "LoggingMagics",
                "popd": "OSMagics",
                "tensorflow_version": "Other",
                "loadpy": "CodeMagics",
                "colors": "BasicMagics",
                "who_ls": "NamespaceMagics",
                "lf": "Other",
                "ll": "Other",
                "pprint": "BasicMagics",
                "lk": "Other",
                "ls": "Other",
                "save": "CodeMagics",
                "tb": "ExecutionMagics",
                "lx": "Other",
                "pylab": "PylabMagics",
                "killbgscripts": "ScriptMagics",
                "quickref": "BasicMagics",
                "magic": "BasicMagics",
                "dhist": "OSMagics",
                "edit": "KernelMagics",
                "logstop": "LoggingMagics",
                "gui": "BasicMagics",
                "prun": "ExecutionMagics",
                "debug": "ExecutionMagics",
                "page": "BasicMagics",
                "logstate": "LoggingMagics",
                "ed": "Other",
                "pushd": "OSMagics",
                "timeit": "ExecutionMagics",
                "set_env": "OSMagics",
                "rehashx": "OSMagics",
                "hist": "Other",
                "qtconsole": "KernelMagics",
                "rm": "Other",
                "dirs": "OSMagics",
                "run": "ExecutionMagics",
                "reset_selective": "NamespaceMagics",
                "pinfo2": "NamespaceMagics",
                "matplotlib": "PylabMagics",
                "unload_ext": "ExtensionMagics",
                "doctest_mode": "BasicMagics",
                "logoff": "LoggingMagics",
                "reload_ext": "ExtensionMagics",
                "pdb": "ExecutionMagics",
                "load": "CodeMagics",
                "lsmagic": "BasicMagics",
                "autosave": "KernelMagics",
                "cd": "OSMagics",
                "pastebin": "CodeMagics",
                "alias_magic": "BasicMagics",
                "cp": "Other",
                "autocall": "AutoMagics",
                "ldir": "Other",
                "bookmark": "OSMagics",
                "connect_info": "KernelMagics",
                "mkdir": "Other",
                "system": "OSMagics",
                "whos": "NamespaceMagics",
                "rmdir": "Other",
                "automagic": "AutoMagics",
                "store": "StoreMagics",
                "more": "KernelMagics",
                "shell": "Other",
                "pdef": "NamespaceMagics",
                "precision": "BasicMagics",
                "pinfo": "NamespaceMagics",
                "pwd": "OSMagics",
                "psearch": "NamespaceMagics",
                "reset": "NamespaceMagics",
                "recall": "HistoryMagics",
                "xdel": "NamespaceMagics",
                "xmode": "BasicMagics",
                "cat": "Other",
                "mv": "Other",
                "rerun": "HistoryMagics",
                "logon": "LoggingMagics",
                "history": "HistoryMagics",
                "pycat": "OSMagics",
                "pip": "Other",
                "unalias": "OSMagics",
                "env": "OSMagics",
                "load_ext": "ExtensionMagics",
                "config": "ConfigMagics",
                "profile": "BasicMagics",
                "pfile": "NamespaceMagics",
                "less": "KernelMagics",
                "who": "NamespaceMagics",
                "notebook": "BasicMagics",
                "man": "KernelMagics",
                "sx": "OSMagics",
                "macro": "ExecutionMagics",
                "clear": "KernelMagics",
                "alias": "OSMagics",
                "time": "ExecutionMagics",
                "sc": "OSMagics",
                "rep": "Other",
                "pdoc": "NamespaceMagics"
              }
            },
            "text/plain": [
              "Available line magics:\n",
              "%alias  %alias_magic  %autocall  %automagic  %autosave  %bookmark  %cat  %cd  %clear  %colors  %config  %connect_info  %cp  %debug  %dhist  %dirs  %doctest_mode  %ed  %edit  %env  %gui  %hist  %history  %killbgscripts  %ldir  %less  %lf  %lk  %ll  %load  %load_ext  %loadpy  %logoff  %logon  %logstart  %logstate  %logstop  %ls  %lsmagic  %lx  %macro  %magic  %man  %matplotlib  %mkdir  %more  %mv  %notebook  %page  %pastebin  %pdb  %pdef  %pdoc  %pfile  %pinfo  %pinfo2  %pip  %popd  %pprint  %precision  %profile  %prun  %psearch  %psource  %pushd  %pwd  %pycat  %pylab  %qtconsole  %quickref  %recall  %rehashx  %reload_ext  %rep  %rerun  %reset  %reset_selective  %rm  %rmdir  %run  %save  %sc  %set_env  %shell  %store  %sx  %system  %tb  %tensorflow_version  %time  %timeit  %unalias  %unload_ext  %who  %who_ls  %whos  %xdel  %xmode\n",
              "\n",
              "Available cell magics:\n",
              "%%!  %%HTML  %%SVG  %%bash  %%bigquery  %%capture  %%debug  %%file  %%html  %%javascript  %%js  %%latex  %%perl  %%prun  %%pypy  %%python  %%python2  %%python3  %%ruby  %%script  %%sh  %%shell  %%svg  %%sx  %%system  %%time  %%timeit  %%writefile\n",
              "\n",
              "Automagic is ON, % prefix IS NOT needed for line magics."
            ]
          },
          "metadata": {
            "tags": []
          },
          "execution_count": 2
        }
      ]
    },
    {
      "cell_type": "markdown",
      "metadata": {
        "id": "obOcjtf5Du6y"
      },
      "source": [
        "* You may use HTML tags, like <font color=\"red\">this</font>.\n",
        "* Plot vectored figure (SVG) by leveraging html magic command."
      ]
    },
    {
      "cell_type": "code",
      "metadata": {
        "colab": {
          "base_uri": "https://localhost:8080/",
          "height": 221
        },
        "id": "eXO1oCO0FEX9",
        "outputId": "8035e103-93a9-4191-ecfd-6f8b5e2a9104"
      },
      "source": [
        "%%html\n",
        "<svg xmlns=\"http://www.w3.org/2000/svg\" viewBox=\"0 0 450 400\" width=\"200\" height=\"200\">\n",
        "  <rect x=\"80\" y=\"60\" width=\"250\" height=\"250\" rx=\"20\" style=\"fill:red; stroke:black; fill-opacity:0.7\" />\n",
        "  <rect x=\"180\" y=\"110\" width=\"250\" height=\"250\" rx=\"40\" style=\"fill:blue; stroke:black; fill-opacity:0.5;\" />\n",
        "</svg>"
      ],
      "execution_count": null,
      "outputs": [
        {
          "output_type": "display_data",
          "data": {
            "text/html": [
              "<svg xmlns=\"http://www.w3.org/2000/svg\" viewBox=\"0 0 450 400\" width=\"200\" height=\"200\">\n",
              "  <rect x=\"80\" y=\"60\" width=\"250\" height=\"250\" rx=\"20\" style=\"fill:red; stroke:black; fill-opacity:0.7\" />\n",
              "  <rect x=\"180\" y=\"110\" width=\"250\" height=\"250\" rx=\"40\" style=\"fill:blue; stroke:black; fill-opacity:0.5;\" />\n",
              "</svg>"
            ],
            "text/plain": [
              "<IPython.core.display.HTML object>"
            ]
          },
          "metadata": {
            "tags": []
          }
        }
      ]
    },
    {
      "cell_type": "markdown",
      "metadata": {
        "id": "2mouLfiNFAI_"
      },
      "source": [
        "* High quality $\\LaTeX$ symbols, such as $$\\zeta(s) = \\sum_{n=1}^{\\infty}{\\frac{1}{n^s}}$$."
      ]
    },
    {
      "cell_type": "markdown",
      "metadata": {
        "id": "sNalTX3HKOtK"
      },
      "source": [
        "####CPU and GPU\n",
        "\n",
        "First, you need to enable GPUs for this colab:\n",
        "[Runtime] $\\rightarrow$ [Change runtime type] $\\rightarrow$ [Hardware accelerator], select GPU from the drop-down.\n",
        "\n",
        "[執行階段] $\\rightarrow$ [變更執行階段類型] $\\rightarrow$ [硬體加速] 選擇 GPU。\n"
      ]
    },
    {
      "cell_type": "code",
      "metadata": {
        "colab": {
          "base_uri": "https://localhost:8080/"
        },
        "id": "FV7Wi8lqNGSQ",
        "outputId": "4120f9ed-3bc5-4bdf-d4a8-c91a5d6d4b6c"
      },
      "source": [
        "import tensorflow as tf\n",
        "print(tf.__version__)"
      ],
      "execution_count": null,
      "outputs": [
        {
          "output_type": "stream",
          "text": [
            "2.5.0\n"
          ],
          "name": "stdout"
        }
      ]
    },
    {
      "cell_type": "code",
      "metadata": {
        "colab": {
          "base_uri": "https://localhost:8080/"
        },
        "id": "4naO6ktINI53",
        "outputId": "69275866-1daf-49a7-8019-331e44f9ba51"
      },
      "source": [
        "for p in tf.config.list_physical_devices():\n",
        "  print(p)\n",
        "for l in tf.config.experimental.list_logical_devices():\n",
        "  print(l)"
      ],
      "execution_count": null,
      "outputs": [
        {
          "output_type": "stream",
          "text": [
            "PhysicalDevice(name='/physical_device:CPU:0', device_type='CPU')\n",
            "PhysicalDevice(name='/physical_device:GPU:0', device_type='GPU')\n",
            "LogicalDevice(name='/device:CPU:0', device_type='CPU')\n",
            "LogicalDevice(name='/device:GPU:0', device_type='GPU')\n"
          ],
          "name": "stdout"
        }
      ]
    },
    {
      "cell_type": "code",
      "metadata": {
        "colab": {
          "base_uri": "https://localhost:8080/"
        },
        "id": "rAw_uwgBOSqU",
        "outputId": "db6c94be-741d-4719-e636-63ee3cf0ed78"
      },
      "source": [
        "# A simple function for performance testing\n",
        "\n",
        "import time\n",
        "\n",
        "def performanceTest(device_name, size=500):\n",
        "    # by using 'with' tf.device, we can explictly assign the computation task\n",
        "    # to a device, i.e., CPU or GPU\n",
        "    with tf.device(device_name):\n",
        "        W = tf.random.normal([size, size], name = 'W')\n",
        "        X = tf.random.normal([size, size], name = 'X')\n",
        "        mul = tf.matmul(W, X, name = 'mul') # <- matmul() has CPU & GPU version.\n",
        "        return tf.reduce_sum(mul, name = 'sum')\n",
        "\n",
        "# We run each op once to warm up; see: https://stackoverflow.com/a/45067900\n",
        "g = performanceTest(\"/device:GPU:0\")\n",
        "c = performanceTest(\"/cpu:0\")"
      ],
      "execution_count": null,
      "outputs": [
        {
          "output_type": "execute_result",
          "data": {
            "text/plain": [
              "<tf.Tensor: shape=(), dtype=float32, numpy=-8028.3247>"
            ]
          },
          "metadata": {
            "tags": []
          },
          "execution_count": 15
        }
      ]
    },
    {
      "cell_type": "code",
      "metadata": {
        "id": "bmsfpuA3OWlN"
      },
      "source": [
        "import timeit\n",
        "\n",
        "gpu_li = []\n",
        "cpu_li = []\n",
        "x_li = []\n",
        "\n",
        "# iteratively execute performanceTest() with different size of parameter\n",
        "for x in range(0, 4001, 500):\n",
        "    g = timeit.timeit(stmt = \"performanceTest('device:GPU:0', {})\".format(x),\n",
        "                      setup = \"from __main__ import performanceTest\",\n",
        "                      number = 1)\n",
        "    c = timeit.timeit(stmt =  \"performanceTest('cpu:0', {})\".format(x),\n",
        "                      setup = \"from __main__ import performanceTest\",\n",
        "                      number = 1)\n",
        "    x_li.append(x)\n",
        "    gpu_li.append(g)\n",
        "    cpu_li.append(c)"
      ],
      "execution_count": null,
      "outputs": []
    },
    {
      "cell_type": "code",
      "metadata": {
        "colab": {
          "base_uri": "https://localhost:8080/",
          "height": 282
        },
        "id": "7wsdEzQVNQVN",
        "outputId": "dd1a1ead-e310-4aae-cd5a-bc33bbab6854"
      },
      "source": [
        "%matplotlib inline\n",
        "import matplotlib.pyplot as plt\n",
        "\n",
        "plt.plot(x_li, gpu_li, label = 'GPU')\n",
        "plt.plot(x_li, cpu_li, label = 'CPU')\n",
        "plt.legend()"
      ],
      "execution_count": null,
      "outputs": [
        {
          "output_type": "execute_result",
          "data": {
            "text/plain": [
              "<matplotlib.legend.Legend at 0x7f5d29353dd0>"
            ]
          },
          "metadata": {
            "tags": []
          },
          "execution_count": 19
        },
        {
          "output_type": "display_data",
          "data": {
            "image/png": "[encoded data removed]",
            "text/plain": [
              "<Figure size 432x288 with 1 Axes>"
            ]
          },
          "metadata": {
            "tags": [],
            "needs_background": "light"
          }
        }
      ]
    },
    {
      "cell_type": "markdown",
      "metadata": {
        "id": "qR_02vW_qwWB"
      },
      "source": [
        "### Libraries"
      ]
    },
    {
      "cell_type": "markdown",
      "metadata": {
        "id": "acLp2RTVHYIR"
      },
      "source": [
        "<table border = \"1\" width=\"800\">\n",
        "<tr>\n",
        "<td width=\"80\">Package</td>\n",
        "<td width=\"720\">Description</td>\n",
        "</tr>\n",
        "<tr>\n",
        "<td>Numpy</td>\n",
        "<td><a href=\"https://numpy.org/doc/stable/reference/index.html\">NumPy</a> is the fundamental package for scientific computing with Python. It contains among other things: a powerful N-dimensional <br/> array object; sophisticated (broadcasting) functions; tools for integrating C/C++ code useful linear algebra, Fourier transform, and <br/> random number capabilities. Besides its obvious scientific uses, NumPy can also be used as an efficient multi-dimensional container <br/> of generic data. Arbitrary data-types can be defined. This allows NumPy to seamlessly and speedily integrate with a wide variety of <br/> databases. </td>\n",
        "</tr>\n",
        "<tr>\n",
        "<td>SciPy</td>\n",
        "<td><a href=\"https://docs.scipy.org/doc/scipy/reference/\">SciPy</a> is a collection of mathematical algorithms and convenience functions built on the Numpy extension of Python. It adds <br/> significant power to the interactive Python session by providing the user with high-level commands and classes for manipulating and <br/> visualizing data. With SciPy an interactive Python session becomes a data-processing and system-prototyping environment <br/> rivaling systems such as MATLAB, IDL, Octave, R-Lab, and SciLab. </td>\n",
        "</tr>\n",
        "<tr>\n",
        "<td>Matplotlib</td>\n",
        "<td><a href=\"https://matplotlib.org/\">Matplotlib</a> is a Python 2D/3D plotting library which produces publication quality figures in a variety of hardcopy formats and interactive <br/> environments across platforms. Matplotlib can be used in Python scripts, the Python and IPython shell, the jupyter notebook, web <br/> application servers, and four graphical user interface toolkits.</td>\n",
        "</tr>\n",
        "<tr>\n",
        "<td>Pandas</td>\n",
        "<td><a href=\"https://pandas.pydata.org/pandas-docs/stable/\">pandas</a> is a Python package providing fast, flexible, and expressive data structures designed to make working with \"relational\" or <br/> \"labeled\" data both easy and intuitive. It aims to be the fundamental high-level building block for doing practical, real world <br/> data analysis in Python. </td>\n",
        "</tr>\n",
        "<tr>\n",
        "<td>Statsmodels</td>\n",
        "<td><a href=\"https://www.statsmodels.org/stable/index.html\">statsmodels</a> is a Python module that provides classes and functions for the estimation of many different statistical models, as well as <br/> for conducting statistical tests, and statistical data exploration. </td>\n",
        "</tr>\n",
        "<tr>\n",
        "<td>Scikit-Learn</td>\n",
        "<td><a href=\"https://scikit-learn.org/stable/\">Scikit-learn</a> is an open source machine learning library that supports supervised and unsupervised learning. It also provides various <br/> tools for model fitting, data preprocessing, model selection and evaluation, and many other utilities.\t</td>\n",
        "</tr>\n",
        "<tr>\n",
        "<td>Keras</td>\n",
        "<td><a href=\"https://keras.io/\">Keras</a> is a high-level neural networks library, written in Python and capable of running on top of TensorFlow. It was developed with a <br/> focus on enabling fast experimentation. Being able to go from idea to result with the least possible delay is key to doing good research.</td>\n",
        "</tr>\n",
        "<tr>\n",
        "<td>TensorFlow</td>\n",
        "<td><a href=\"https://www.tensorflow.org/\">TensorFlow</a> is an end-to-end open source platform for machine learning. It has a comprehensive, flexible ecosystem of tools, libraries <br/> and community resources that lets researchers push the state-of-the-art in ML and developers easily build and deploy ML powered <br/> applications.</td>\n",
        "</tr>\n",
        "\n",
        "</table>"
      ]
    },
    {
      "cell_type": "markdown",
      "metadata": {
        "id": "9YrxA5pzq0nG"
      },
      "source": [
        "###Dataset\n",
        "\n",
        "* [Google Dataset Search](https://datasetsearch.research.google.com/)\n",
        "* [Kaggle](https://www.kaggle.com/)\n",
        "* [UC Irvine Machine Learning Repository](https://archive-beta.ics.uci.edu/)\n",
        "* [SecRepo.com](http://www.secrepo.com/) - Samples of Security Related Data\n",
        "* [Detecting Malicious URLs](https://www.sysnet.ucsd.edu/projects/url/)\n",
        "* [Web Attack Payloads](https://github.com/foospidy/payloads)\n",
        "* [MalwareTrainingSets](https://github.com/marcoramilli/MalwareTrainingSets)\n"
      ]
    },
    {
      "cell_type": "markdown",
      "metadata": {
        "id": "ikRq1WPqq5s3"
      },
      "source": [
        "### Orange (I)\n",
        "\n",
        "Orange: Interactive data exploration for rapid qualitative analysis with clean visualizations. Graphic user interface allows you to focus on exploratory data analysis instead of coding, while clever defaults make fast prototyping of a data analysis workflow extremely easy. \n",
        "\n",
        "* Official [website](https://orangedatamining.com/) \n",
        "* [YouTube](https://www.youtube.com/channel/UClKKWBe2SCAEyv7ZNGhIe4g) Channel\n",
        "  * Getting Started with Orange [Playlist](https://www.youtube.com/watch?v=HXjnDIgGDuI&list=PLmNPvQr9Tf-ZSDLwOzxpvY-HrE0yv-8Fy)\n",
        "  * Single Cell Orange\n",
        "  * Text Mining\n",
        "  * Image Analytics\n",
        "  * Spectral Orange\n",
        "  * Covid-19 Series"
      ]
    },
    {
      "cell_type": "markdown",
      "metadata": {
        "id": "JvQY5QkwhELJ"
      },
      "source": [
        "#### Installation\n",
        "\n",
        "* Colab does not support running Orange at the remote server. You have to install a local Python execution environment on your PC or laptop.\n",
        "* [Anaconda](https://www.anaconda.com/products/individual) is reommended, as it distribution already includes lots of pacages, so that we do not need to install them on our own.\n",
        "* Currently (2021), it is tricky to install anaconda and some machine learning packages on Mac M1. I recommand using non-ARM system to run your codes.\n",
        "* Follow the instructions from Orange https://orangedatamining.com/download/. Or if you are using Anaconda, you can find Orange in [Anaconda Navigator](https://docs.anaconda.com/anaconda/navigator/).\n"
      ]
    },
    {
      "cell_type": "markdown",
      "metadata": {
        "id": "4UuzJNTvjpBL"
      },
      "source": [
        "####Play with data\n",
        "\n",
        "\n",
        "* Data\n",
        "  * File (tab, URL, csv)\n",
        "    * numeric/categorical, feature/target\n",
        "  * Data Table\n",
        "  * Paint Data\n",
        "  * Data Sampler\n",
        "  * Select Columns (and target), Select Rows\n",
        "  * Data Info, Rank, Feature Statistics\n",
        "  * Outliers \n",
        "  * Continuize, Discretize\n",
        "  * Merge Data, Concatenate\n",
        "  * Transpose\n",
        "  * Save Data\n",
        "* Visualize\n",
        " * Box Plot\n",
        " * Distribution\n",
        " * Scatter Plot\n",
        " * Linear Projection\n",
        "* Widget Link\n",
        "  * Selected Data\n"
      ]
    }
  ]
}