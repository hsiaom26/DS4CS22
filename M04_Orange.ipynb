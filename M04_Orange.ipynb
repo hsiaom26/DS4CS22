{
  "nbformat": 4,
  "nbformat_minor": 0,
  "metadata": {
    "colab": {
      "name": "M04_Orange.ipynb",
      "provenance": [],
      "collapsed_sections": [],
      "toc_visible": true,
      "authorship_tag": "ABX9TyOYa0hUoBCbwFZ3CkCrRSPQ"
    },
    "kernelspec": {
      "name": "python3",
      "display_name": "Python 3"
    },
    "language_info": {
      "name": "python"
    }
  },
  "cells": [
    {
      "cell_type": "markdown",
      "source": [
        "#Orange (Class Note)\n",
        "\n",
        "Orange: Data Mining Fruitful and Fun\n",
        "\n",
        "https://orange.biolab.si/"
      ],
      "metadata": {
        "id": "ZDxFcWQ3vCqc"
      }
    },
    {
      "cell_type": "markdown",
      "source": [
        "### Installation"
      ],
      "metadata": {
        "id": "beOC2l-4vRTK"
      }
    },
    {
      "cell_type": "code",
      "source": [
        "# Conda installation\n",
        "# conda config --add channels conda-forge\n",
        "# conda install orange3\n",
        "\n",
        "\n",
        "# Pip installation\n",
        "# pip install orange3\n",
        "\n",
        "# Execution\n",
        "# python -m Orange.canvas"
      ],
      "metadata": {
        "id": "MMWWfrJKvPAF"
      },
      "execution_count": null,
      "outputs": []
    },
    {
      "cell_type": "markdown",
      "source": [
        "### Class Notes\n",
        "\n",
        "* Data\n",
        "  * File (tab, URL), Data Table\n",
        "  * Select Columns (and target), Select Rows\n",
        "  * Outliers\n",
        "  * Continuize, Discretize\n",
        "  * Merge Data, Concatenate\n",
        "  * Transpose\n",
        "  * Save Data\n",
        "\n",
        "* Visualize\n",
        "  * Box Plot, Distribution\n",
        "  * Scatter Plot, Linear Projection\n",
        "  * SelectedData\n",
        "\n",
        "* Example 1: Hierarchical Clustering with Distance\n",
        "  * iris dataset \n",
        "  * Distances, Distance Matrix\n",
        "  * Hierarchical Clustering\n",
        "  * SelectedData on figure, Data Table\n",
        "\n",
        "* Example 2: Titanic Sieve Diagram\n",
        "  * titanic, Sieve Diagram (A sieve diagram is a graphical method for visualizing the frequencies in a two-way contingency table and comparing them to the expected frequencies under assumption of independence.)\n",
        "\n",
        "* Example 3: Classification with PCA, Decision Tree\n",
        "  * iris, PCA, Scatter Plot w/ density, show factors by Data Table\n",
        "  * iris, Classification Tree, Tree Viewer, Scatter Plot + Box Plot (select a node in Tree Viewer)\n",
        "  * iris, Rank (Gini, Gain, X^2), Box Plot, Distribution\n",
        "\n",
        "* Example 4: Painted k-means and Silhouette\n",
        "  * Paint Data, k-means, Silhouette Plot; On iris data\n",
        "\n",
        "* Example 5-1: Test & Score\n",
        "  * Test & Score: (titanic, Tree, kNN, SVM) -> (Test & Score) -> ROC Analysis\n",
        "* Example 5-2: Test & Score & misclassification data\n",
        "Test & Score: (iris, Tree, kNN, SVM) -> (Test & Score) -> Confusion Matrix*3 (select misclassified) -> Venn Diagram + Data Table (see selected misclassified data)\n",
        "\n",
        "* Example 5-3: Prediction with data\n",
        "  * Predictions\n",
        "\n",
        "* Example 6: PCA problem\n",
        "  * titanic, Preprocess w/ and w/o PCA on same Classifier Method (LR), ROC; MDS\n",
        "  * Explain why PCA does not perform better.\n",
        "\n",
        "* Example 7: Test on testing data\n",
        "  * Training and Testing, test on testing data\n",
        "\n",
        "* Example 8: Rules\n",
        "  * CN2 Rule and Association Rule"
      ],
      "metadata": {
        "id": "hoJhjjz3vcJ8"
      }
    },
    {
      "cell_type": "markdown",
      "source": [
        "### Workflow Examples"
      ],
      "metadata": {
        "id": "_bT7wjhxvjw2"
      }
    },
    {
      "cell_type": "markdown",
      "source": [
        "* Orange built-in workflow tutorial\n",
        "in your Python’s \\Lib\\site-packages\\Orange\\canvas\\application\\workflows\n",
        "\n",
        "* Orange Youtube channel\n",
        "https://www.youtube.com/channel/UClKKWBe2SCAEyv7ZNGhIe4g\n",
        "\n",
        "* Orange workflow screenshot\n",
        "https://orange.biolab.si/screenshots/\n",
        "* Orange: Loading your Data\n",
        "http://orange-visual-programming.readthedocs.io/loading-your-data/index.html\n",
        "\n",
        "* Orange Visual Programming\n",
        "https://docs.orange.biolab.si/3/visual-programming/\n"
      ],
      "metadata": {
        "id": "RYeNNkCvvA76"
      }
    },
    {
      "cell_type": "markdown",
      "source": [
        "# Confusion Matrix\n",
        "\n",
        "https://en.wikipedia.org/wiki/Confusion_matrix\n",
        "\n",
        "<table>\n",
        "<tr><th></th><th></th><th colspan=\"2\" style=\"text-align:center;\">Prediction</th></tr>\n",
        "<tr><th></th><th></th><th>Class 0 (Negative)</th><th>Class 1 (Positive)</th></tr>\n",
        "<tr><th rowspan=\"2\"> Actual</th><th>Class 0 (Negative)</td><td>True Negative (TN)</th><td>False Positive (FP)</td></tr>\n",
        "<tr><th>Class 1 (Positive)</th><td>False Negative (FN)</td><td>True Positive (TP)</td></tr>\n",
        "</table>\n",
        "\n",
        "$\\text{Accuracy} = \\frac{TP+TN}{TP+TN+FP+FN}, \\text{Error Rate} = 1 - \\text{Accuracy}$\n",
        "\n",
        "$\\text{Sensitivity} = \\frac{TP}{TP+FN}$, how many traget do the model find?\n",
        "\n",
        "$\\text{Specificity} = \\frac{TN}{TN+FP}$, how many non-traget do the model find?\n",
        "\n",
        "$\\text{Precision} = \\frac{TP}{TP+FP}$, how precision the model can find target?\n",
        "\n",
        "$\\text{Recall} = \\frac{TP}{TP+FN}$, sensitivity.\n",
        "\n",
        "$F_1 = \\frac{1}{\\frac{1}{\\text{Precision}} + \\frac{1}{\\text{Recall}}}$"
      ],
      "metadata": {
        "id": "4vfwYqCZMBC4"
      }
    },
    {
      "cell_type": "code",
      "source": [
        "import numpy as np\n",
        "import pandas as pd\n",
        "import matplotlib.pyplot as plt\n",
        "\n",
        "from sklearn import datasets\n",
        "\n",
        "iris = datasets.load_iris()\n",
        "iris_df = pd.DataFrame(iris.data, columns = iris.feature_names)\n",
        "iris_df['target'] = list(map(lambda x: iris.target_names[x], iris.target))\n",
        "vv_pl_df = iris_df[(iris_df.target == 'virginica') | (iris_df.target == 'versicolor')]\n",
        "vv_pl_df = vv_pl_df[['petal length (cm)', 'target']]\n",
        "vv_pl_df"
      ],
      "metadata": {
        "colab": {
          "base_uri": "https://localhost:8080/",
          "height": 424
        },
        "id": "o4r9b9flOyY6",
        "outputId": "d85d6d39-e3ae-4cd3-b2d6-fe0af5dd4503"
      },
      "execution_count": null,
      "outputs": [
        {
          "output_type": "execute_result",
          "data": {
            "text/html": [
              "\n",
              "  <div id=\"df-51af274a-f8f4-4874-9bb1-4141e02da5c9\">\n",
              "    <div class=\"colab-df-container\">\n",
              "      <div>\n",
              "<style scoped>\n",
              "    .dataframe tbody tr th:only-of-type {\n",
              "        vertical-align: middle;\n",
              "    }\n",
              "\n",
              "    .dataframe tbody tr th {\n",
              "        vertical-align: top;\n",
              "    }\n",
              "\n",
              "    .dataframe thead th {\n",
              "        text-align: right;\n",
              "    }\n",
              "</style>\n",
              "<table border=\"1\" class=\"dataframe\">\n",
              "  <thead>\n",
              "    <tr style=\"text-align: right;\">\n",
              "      <th></th>\n",
              "      <th>petal length (cm)</th>\n",
              "      <th>target</th>\n",
              "    </tr>\n",
              "  </thead>\n",
              "  <tbody>\n",
              "    <tr>\n",
              "      <th>50</th>\n",
              "      <td>4.7</td>\n",
              "      <td>versicolor</td>\n",
              "    </tr>\n",
              "    <tr>\n",
              "      <th>51</th>\n",
              "      <td>4.5</td>\n",
              "      <td>versicolor</td>\n",
              "    </tr>\n",
              "    <tr>\n",
              "      <th>52</th>\n",
              "      <td>4.9</td>\n",
              "      <td>versicolor</td>\n",
              "    </tr>\n",
              "    <tr>\n",
              "      <th>53</th>\n",
              "      <td>4.0</td>\n",
              "      <td>versicolor</td>\n",
              "    </tr>\n",
              "    <tr>\n",
              "      <th>54</th>\n",
              "      <td>4.6</td>\n",
              "      <td>versicolor</td>\n",
              "    </tr>\n",
              "    <tr>\n",
              "      <th>...</th>\n",
              "      <td>...</td>\n",
              "      <td>...</td>\n",
              "    </tr>\n",
              "    <tr>\n",
              "      <th>145</th>\n",
              "      <td>5.2</td>\n",
              "      <td>virginica</td>\n",
              "    </tr>\n",
              "    <tr>\n",
              "      <th>146</th>\n",
              "      <td>5.0</td>\n",
              "      <td>virginica</td>\n",
              "    </tr>\n",
              "    <tr>\n",
              "      <th>147</th>\n",
              "      <td>5.2</td>\n",
              "      <td>virginica</td>\n",
              "    </tr>\n",
              "    <tr>\n",
              "      <th>148</th>\n",
              "      <td>5.4</td>\n",
              "      <td>virginica</td>\n",
              "    </tr>\n",
              "    <tr>\n",
              "      <th>149</th>\n",
              "      <td>5.1</td>\n",
              "      <td>virginica</td>\n",
              "    </tr>\n",
              "  </tbody>\n",
              "</table>\n",
              "<p>100 rows × 2 columns</p>\n",
              "</div>\n",
              "      <button class=\"colab-df-convert\" onclick=\"convertToInteractive('df-51af274a-f8f4-4874-9bb1-4141e02da5c9')\"\n",
              "              title=\"Convert this dataframe to an interactive table.\"\n",
              "              style=\"display:none;\">\n",
              "        \n",
              "  <svg xmlns=\"http://www.w3.org/2000/svg\" height=\"24px\"viewBox=\"0 0 24 24\"\n",
              "       width=\"24px\">\n",
              "    <path d=\"M0 0h24v24H0V0z\" fill=\"none\"/>\n",
              "    <path d=\"M18.56 5.44l.94 2.06.94-2.06 2.06-.94-2.06-.94-.94-2.06-.94 2.06-2.06.94zm-11 1L8.5 8.5l.94-2.06 2.06-.94-2.06-.94L8.5 2.5l-.94 2.06-2.06.94zm10 10l.94 2.06.94-2.06 2.06-.94-2.06-.94-.94-2.06-.94 2.06-2.06.94z\"/><path d=\"M17.41 7.96l-1.37-1.37c-.4-.4-.92-.59-1.43-.59-.52 0-1.04.2-1.43.59L10.3 9.45l-7.72 7.72c-.78.78-.78 2.05 0 2.83L4 21.41c.39.39.9.59 1.41.59.51 0 1.02-.2 1.41-.59l7.78-7.78 2.81-2.81c.8-.78.8-2.07 0-2.86zM5.41 20L4 18.59l7.72-7.72 1.47 1.35L5.41 20z\"/>\n",
              "  </svg>\n",
              "      </button>\n",
              "      \n",
              "  <style>\n",
              "    .colab-df-container {\n",
              "      display:flex;\n",
              "      flex-wrap:wrap;\n",
              "      gap: 12px;\n",
              "    }\n",
              "\n",
              "    .colab-df-convert {\n",
              "      background-color: #E8F0FE;\n",
              "      border: none;\n",
              "      border-radius: 50%;\n",
              "      cursor: pointer;\n",
              "      display: none;\n",
              "      fill: #1967D2;\n",
              "      height: 32px;\n",
              "      padding: 0 0 0 0;\n",
              "      width: 32px;\n",
              "    }\n",
              "\n",
              "    .colab-df-convert:hover {\n",
              "      background-color: #E2EBFA;\n",
              "      box-shadow: 0px 1px 2px rgba(60, 64, 67, 0.3), 0px 1px 3px 1px rgba(60, 64, 67, 0.15);\n",
              "      fill: #174EA6;\n",
              "    }\n",
              "\n",
              "    [theme=dark] .colab-df-convert {\n",
              "      background-color: #3B4455;\n",
              "      fill: #D2E3FC;\n",
              "    }\n",
              "\n",
              "    [theme=dark] .colab-df-convert:hover {\n",
              "      background-color: #434B5C;\n",
              "      box-shadow: 0px 1px 3px 1px rgba(0, 0, 0, 0.15);\n",
              "      filter: drop-shadow(0px 1px 2px rgba(0, 0, 0, 0.3));\n",
              "      fill: #FFFFFF;\n",
              "    }\n",
              "  </style>\n",
              "\n",
              "      <script>\n",
              "        const buttonEl =\n",
              "          document.querySelector('#df-51af274a-f8f4-4874-9bb1-4141e02da5c9 button.colab-df-convert');\n",
              "        buttonEl.style.display =\n",
              "          google.colab.kernel.accessAllowed ? 'block' : 'none';\n",
              "\n",
              "        async function convertToInteractive(key) {\n",
              "          const element = document.querySelector('#df-51af274a-f8f4-4874-9bb1-4141e02da5c9');\n",
              "          const dataTable =\n",
              "            await google.colab.kernel.invokeFunction('convertToInteractive',\n",
              "                                                     [key], {});\n",
              "          if (!dataTable) return;\n",
              "\n",
              "          const docLinkHtml = 'Like what you see? Visit the ' +\n",
              "            '<a target=\"_blank\" href=https://colab.research.google.com/notebooks/data_table.ipynb>data table notebook</a>'\n",
              "            + ' to learn more about interactive tables.';\n",
              "          element.innerHTML = '';\n",
              "          dataTable['output_type'] = 'display_data';\n",
              "          await google.colab.output.renderOutput(dataTable, element);\n",
              "          const docLink = document.createElement('div');\n",
              "          docLink.innerHTML = docLinkHtml;\n",
              "          element.appendChild(docLink);\n",
              "        }\n",
              "      </script>\n",
              "    </div>\n",
              "  </div>\n",
              "  "
            ],
            "text/plain": [
              "     petal length (cm)      target\n",
              "50                 4.7  versicolor\n",
              "51                 4.5  versicolor\n",
              "52                 4.9  versicolor\n",
              "53                 4.0  versicolor\n",
              "54                 4.6  versicolor\n",
              "..                 ...         ...\n",
              "145                5.2   virginica\n",
              "146                5.0   virginica\n",
              "147                5.2   virginica\n",
              "148                5.4   virginica\n",
              "149                5.1   virginica\n",
              "\n",
              "[100 rows x 2 columns]"
            ]
          },
          "metadata": {},
          "execution_count": 7
        }
      ]
    },
    {
      "cell_type": "code",
      "source": [
        "import seaborn as sns\n",
        "fig = plt.figure(figsize=(10,7))\n",
        "sns.histplot(vv_pl_df[vv_pl_df.target =='virginica']['petal length (cm)'],\n",
        "             color=\"dodgerblue\", label=\"virginica\", kde=True,\n",
        "             binrange = (3.0, 7.0), binwidth = 0.05, stat='probability')\n",
        "sns.histplot(vv_pl_df[vv_pl_df.target =='versicolor']['petal length (cm)'],\n",
        "             color=\"deeppink\", label=\"versicolor\", kde=True, \n",
        "             binrange = (3.0, 7.0), binwidth = 0.05, stat='probability')\n",
        "\n",
        "# model\n",
        "plt.axvline(x = 4.875, color = 'black')\n",
        "plt.text(4.7, 0.13, \"Model\")\n",
        "\n",
        "plt.legend()\n",
        "plt.show()"
      ],
      "metadata": {
        "colab": {
          "base_uri": "https://localhost:8080/",
          "height": 442
        },
        "id": "ZUvhwBCkUcVp",
        "outputId": "404658c3-bca8-4252-9a54-41661699e029"
      },
      "execution_count": null,
      "outputs": [
        {
          "output_type": "display_data",
          "data": {
            "image/png": "[encoded data removed]",
            "text/plain": [
              "<Figure size 720x504 with 1 Axes>"
            ]
          },
          "metadata": {
            "needs_background": "light"
          }
        }
      ]
    },
    {
      "cell_type": "markdown",
      "source": [
        "Quesion: If we try to find 'virginica' (i.e., target is virginica, virginica = +1), where are the TP, TN, FP, FN? \n",
        "\n",
        "Question: If our model is simple a rule that \"If $x > 4.875$, then y = +1\", is it the best model?\n",
        "\n",
        "Question: Which of FN and FP is more important?\n",
        "\n",
        "Queestion: How do we decrease FN"
      ],
      "metadata": {
        "id": "QfSsQ_V2Wktd"
      }
    },
    {
      "cell_type": "markdown",
      "source": [
        "# ROC (receiver operating characteristic) Curve"
      ],
      "metadata": {
        "id": "177JC8XASHkN"
      }
    },
    {
      "cell_type": "code",
      "source": [
        "vv_pl_df.sort_values(by=['petal length (cm)'], inplace=True)\n",
        "\n",
        "# for virginica\n",
        "P = sum(vv_pl_df.target == 'virginica') # count how many 'True's\n",
        "N = sum(vv_pl_df.target != 'virginica') # count how many not 'True's\n",
        "\n",
        "roc_li = list()\n",
        "for model in np.linspace(3.0, 7.0 ,81):\n",
        "  TP = sum( (vv_pl_df['petal length (cm)'] >= model) & (vv_pl_df.target == 'virginica') )\n",
        "  FP = sum( (vv_pl_df['petal length (cm)'] >= model) & (vv_pl_df.target != 'virginica') )\n",
        "  TPR = (TP)/(P)\n",
        "  FPR = (FP)/(N)\n",
        "  roc_li.append( [FPR, TPR] )"
      ],
      "metadata": {
        "id": "qU8DxV0am8en"
      },
      "execution_count": null,
      "outputs": []
    },
    {
      "cell_type": "code",
      "source": [
        "plt.figure(figsize=(5, 5))\n",
        "# curve\n",
        "plt.plot(list(map(lambda x: x[0], roc_li)),\n",
        "         list(map(lambda x: x[1], roc_li)),\n",
        "         label = \"ROC Curve\")\n",
        "\n",
        "# points\n",
        "shift = 0.05\n",
        "plt.scatter([0.12, 0.08], [0.98, 0.94], color=\"red\")\n",
        "plt.text(0.12+shift, 0.98-shift, \"(0.12, 0.98)\", color=\"red\")\n",
        "plt.text(0.08+shift, 0.94-shift, \"(0.08, 0.94)\", color=\"red\")\n",
        "\n",
        "# 45 degree\n",
        "s = 0.14\n",
        "plt.plot([0, s], [1-s, 1], '--')\n",
        "\n",
        "# arrow\n",
        "plt.arrow(0.2,0.8, -0.1,-0.1, width = 0.01, color = \"dodgerblue\")\n",
        "plt.arrow(0.3,0.85, +0.3,+0.1, width = 0.01, color = \"deeppink\")\n",
        "plt.text(0.1, 0.6, \"move threshold\\nto right\", color=\"dodgerblue\")\n",
        "plt.text(0.5, 0.75, \"move threshold\\nto left\", color=\"deeppink\")\n",
        "\n",
        "plt.xlabel(\"FPR\")\n",
        "plt.ylabel(\"TPR\")\n",
        "plt.title(\"virginica\")\n",
        "plt.legend()\n",
        "plt.show()"
      ],
      "metadata": {
        "colab": {
          "base_uri": "https://localhost:8080/",
          "height": 350
        },
        "id": "-iYyiqHzvRlX",
        "outputId": "8953c32d-4077-40a1-8f4d-d4238c9b8c1e"
      },
      "execution_count": null,
      "outputs": [
        {
          "output_type": "display_data",
          "data": {
            "image/png": "[encoded data removed]",
            "text/plain": [
              "<Figure size 360x360 with 1 Axes>"
            ]
          },
          "metadata": {
            "needs_background": "light"
          }
        }
      ]
    }
  ]
}