{
  "cells": [
    {
      "cell_type": "markdown",
      "metadata": {
        "id": "73DklVLbcSkL"
      },
      "source": [
        "## Python Built-in Types\n",
        "https://docs.python.org/3/library/stdtypes.html"
      ]
    },
    {
      "cell_type": "markdown",
      "metadata": {
        "id": "N9pMYIdNcSkO"
      },
      "source": [
        "### Boolean Operations and None"
      ]
    },
    {
      "cell_type": "code",
      "execution_count": null,
      "metadata": {
        "colab": {
          "base_uri": "https://localhost:8080/"
        },
        "id": "WsCjtWezcSkP",
        "outputId": "e07e540b-10d4-4ea7-c54f-d2979edf2b2b"
      },
      "outputs": [
        {
          "output_type": "stream",
          "name": "stdout",
          "text": [
            "True False None\n",
            "False\n",
            "True\n",
            "False\n",
            "True\n"
          ]
        }
      ],
      "source": [
        "t = True\n",
        "f = False\n",
        "n = None\n",
        "\n",
        "print(t, f, n)\n",
        "print(t and f)\n",
        "print(t or f)\n",
        "print(not t)\n",
        "print(not n)"
      ]
    },
    {
      "cell_type": "markdown",
      "metadata": {
        "id": "STObkfMYcSkR"
      },
      "source": [
        "### Comparisons"
      ]
    },
    {
      "cell_type": "code",
      "execution_count": null,
      "metadata": {
        "colab": {
          "base_uri": "https://localhost:8080/"
        },
        "id": "NgbFwPzTcSkR",
        "outputId": "3c9ca7b1-56ee-4c1c-afe5-b4995b0cc7b8"
      },
      "outputs": [
        {
          "output_type": "stream",
          "name": "stdout",
          "text": [
            "True\n",
            "False\n",
            "True\n",
            "False\n"
          ]
        }
      ],
      "source": [
        "t = True\n",
        "f = False\n",
        "n = None\n",
        "\n",
        "print(1==1)\n",
        "print(2!=2)\n",
        "print(1<2)\n",
        "print(1>=2)"
      ]
    },
    {
      "cell_type": "code",
      "execution_count": null,
      "metadata": {
        "colab": {
          "base_uri": "https://localhost:8080/"
        },
        "id": "-NyoNmk4cSkS",
        "outputId": "ff745ab1-f4df-4c28-fc9c-3c86a1e21333"
      },
      "outputs": [
        {
          "output_type": "stream",
          "name": "stdout",
          "text": [
            "False\n",
            "False\n",
            "False\n",
            "False\n"
          ]
        }
      ],
      "source": [
        "print(None==False)\n",
        "print(None==0)\n",
        "print(None is False)\n",
        "print(None is 0)"
      ]
    },
    {
      "cell_type": "code",
      "execution_count": null,
      "metadata": {
        "colab": {
          "base_uri": "https://localhost:8080/"
        },
        "id": "8utVRj0ScSkS",
        "outputId": "72ff90ac-cffc-49ba-9f1d-f9665a15be2a"
      },
      "outputs": [
        {
          "output_type": "stream",
          "name": "stdout",
          "text": [
            "10 94151806221088\n",
            "10 94151806221088\n",
            "True\n",
            "True\n"
          ]
        }
      ],
      "source": [
        "# is => object identity\n",
        "a = 10\n",
        "print(a, id(a))\n",
        "b = a\n",
        "print(b, id(b))\n",
        "\n",
        "print(a==b) # value\n",
        "print(a is b) # object"
      ]
    },
    {
      "cell_type": "code",
      "execution_count": null,
      "metadata": {
        "colab": {
          "base_uri": "https://localhost:8080/"
        },
        "id": "7f37erBucSkT",
        "outputId": "806995f4-4fe0-432f-e7f7-7d71de490165"
      },
      "outputs": [
        {
          "output_type": "stream",
          "name": "stdout",
          "text": [
            "False\n",
            "True\n"
          ]
        }
      ],
      "source": [
        "a = 10\n",
        "b = 10.0\n",
        "print(a is b)\n",
        "print(a is not b)"
      ]
    },
    {
      "cell_type": "markdown",
      "metadata": {
        "id": "3KramLMmcSkU"
      },
      "source": [
        "### Numeric Types\n",
        "int, float, complex"
      ]
    },
    {
      "cell_type": "code",
      "execution_count": null,
      "metadata": {
        "colab": {
          "base_uri": "https://localhost:8080/"
        },
        "id": "eS-TmS6BcSkU",
        "outputId": "4c43de4d-8a20-4e13-e7f8-2e3f8f1f674c"
      },
      "outputs": [
        {
          "output_type": "stream",
          "name": "stdout",
          "text": [
            "5 10.6 (1+1j)\n",
            "<class 'int'> <class 'float'> <class 'complex'>\n"
          ]
        }
      ],
      "source": [
        "i = int(5)\n",
        "f = float(10.6)\n",
        "c = complex(1,1)\n",
        "\n",
        "print(i, f, c)\n",
        "print(type(i), type(f), type(c))"
      ]
    },
    {
      "cell_type": "markdown",
      "metadata": {
        "id": "7la6UsNpcSkV"
      },
      "source": [
        "### Numeric Operations"
      ]
    },
    {
      "cell_type": "code",
      "execution_count": null,
      "metadata": {
        "colab": {
          "base_uri": "https://localhost:8080/"
        },
        "id": "8kt7XTB5cSkV",
        "outputId": "2cac3565-71f4-4924-9564-9ed87be261c3"
      },
      "outputs": [
        {
          "output_type": "stream",
          "name": "stdout",
          "text": [
            "15.6\n",
            "-5.6\n",
            "53.0\n",
            "0.4716981132075472\n"
          ]
        }
      ],
      "source": [
        "print(i+f)\n",
        "print(i-f)\n",
        "print(i*f)\n",
        "print(i/f)"
      ]
    },
    {
      "cell_type": "code",
      "execution_count": null,
      "metadata": {
        "colab": {
          "base_uri": "https://localhost:8080/"
        },
        "id": "SJh1Sw8ScSkW",
        "outputId": "cc1265c7-95c7-4e5f-8fcf-051362a2a0e6"
      },
      "outputs": [
        {
          "output_type": "stream",
          "name": "stdout",
          "text": [
            "2.5\n",
            "2\n",
            "1\n"
          ]
        }
      ],
      "source": [
        "print(5/2) # div\n",
        "print(5//2) # quotient\n",
        "print(5%2) # remainder "
      ]
    },
    {
      "cell_type": "code",
      "execution_count": null,
      "metadata": {
        "colab": {
          "base_uri": "https://localhost:8080/"
        },
        "id": "Wyk390mVcSkW",
        "outputId": "f6313d99-3be1-431e-e2fe-05ad3a2a6973"
      },
      "outputs": [
        {
          "output_type": "stream",
          "name": "stdout",
          "text": [
            "10.6\n",
            "10\n"
          ]
        }
      ],
      "source": [
        "print(abs(-10.6))\n",
        "print(int(10.6)) # floor"
      ]
    },
    {
      "cell_type": "code",
      "execution_count": null,
      "metadata": {
        "colab": {
          "base_uri": "https://localhost:8080/"
        },
        "id": "GEh3k3qHcSkW",
        "outputId": "9c11d2d1-2436-43e2-efc2-25d5657dd7f0"
      },
      "outputs": [
        {
          "output_type": "stream",
          "name": "stdout",
          "text": [
            "8\n",
            "8\n"
          ]
        }
      ],
      "source": [
        "print(pow(2, 3)) # 2^3\n",
        "print(2**3) # 2^3"
      ]
    },
    {
      "cell_type": "code",
      "execution_count": null,
      "metadata": {
        "colab": {
          "base_uri": "https://localhost:8080/"
        },
        "id": "rUrKCBuycSkX",
        "outputId": "936aaea1-f312-4596-c0a4-47ffa3c44fd0"
      },
      "outputs": [
        {
          "output_type": "stream",
          "name": "stdout",
          "text": [
            "9\n",
            "8\n",
            "9\n",
            "10\n"
          ]
        }
      ],
      "source": [
        "i = 10\n",
        "i = i - 1\n",
        "print(i)\n",
        "i -= 1\n",
        "print(i)\n",
        "i = i + 1\n",
        "print(i)\n",
        "i += 1\n",
        "print(i)"
      ]
    },
    {
      "cell_type": "code",
      "execution_count": null,
      "metadata": {
        "colab": {
          "base_uri": "https://localhost:8080/"
        },
        "id": "hDKLib8dcSkX",
        "outputId": "5447e209-e947-4cd8-e5a6-2290bc056c8b"
      },
      "outputs": [
        {
          "output_type": "stream",
          "name": "stdout",
          "text": [
            "10\n",
            "10\n",
            "11\n"
          ]
        }
      ],
      "source": [
        "import math\n",
        "\n",
        "print(round(10.5)) # not standard rounding\n",
        "print(math.floor(10.5))\n",
        "print(math.ceil(10.5))"
      ]
    },
    {
      "cell_type": "markdown",
      "metadata": {
        "id": "83S51zkqcSkX"
      },
      "source": [
        "### Iterator Types"
      ]
    },
    {
      "cell_type": "code",
      "execution_count": null,
      "metadata": {
        "id": "4Rxr-_p2cSkX"
      },
      "outputs": [],
      "source": [
        "it = iter([0,1,2,3,4,5,6,7,8,9])"
      ]
    },
    {
      "cell_type": "code",
      "execution_count": null,
      "metadata": {
        "colab": {
          "base_uri": "https://localhost:8080/"
        },
        "id": "KQAgLLdjcSkY",
        "outputId": "89cce9a7-88fc-476c-953a-01cfd58df176"
      },
      "outputs": [
        {
          "output_type": "stream",
          "name": "stdout",
          "text": [
            "0\n"
          ]
        }
      ],
      "source": [
        "print(next(it))"
      ]
    },
    {
      "cell_type": "markdown",
      "metadata": {
        "id": "pFgUwNQCcSkY"
      },
      "source": [
        "### Sequence Types\n",
        "list, tuple, range"
      ]
    },
    {
      "cell_type": "code",
      "execution_count": null,
      "metadata": {
        "colab": {
          "base_uri": "https://localhost:8080/"
        },
        "id": "lwdxPOK8cSkY",
        "outputId": "6c7ebd15-c066-4e6e-dbc5-88f0f6cfd867"
      },
      "outputs": [
        {
          "output_type": "stream",
          "name": "stdout",
          "text": [
            "[0, 1, 2, 3, 4, 5, 6, 7, 8, 9] ('spring', 1, True) range(0, 10)\n"
          ]
        }
      ],
      "source": [
        "li = list([0,1,2,3,4,5,6,7,8,9]) # mutable sequence\n",
        "tp = tuple((\"spring\", 1, True)) # immutable sequence\n",
        "rg = range(10)\n",
        "\n",
        "print(li, tp, rg)"
      ]
    },
    {
      "cell_type": "code",
      "execution_count": null,
      "metadata": {
        "colab": {
          "base_uri": "https://localhost:8080/"
        },
        "id": "itTpcfFQcSkY",
        "outputId": "798224b6-d25e-4dd3-ffdc-4556e536d560"
      },
      "outputs": [
        {
          "output_type": "stream",
          "name": "stdout",
          "text": [
            "10 3 10\n"
          ]
        }
      ],
      "source": [
        "# length of a sequence\n",
        "print(len(li), len(tp), len(rg))"
      ]
    },
    {
      "cell_type": "code",
      "execution_count": null,
      "metadata": {
        "colab": {
          "base_uri": "https://localhost:8080/"
        },
        "id": "Xvn2RE5OcSkZ",
        "outputId": "1c431797-b5dc-4071-ef78-1d7e56492e9d"
      },
      "outputs": [
        {
          "output_type": "stream",
          "name": "stdout",
          "text": [
            "0 1 9\n",
            "[0, 1, 2] (1, True) range(9, 7)\n"
          ]
        }
      ],
      "source": [
        "# index of a sequence\n",
        "print(li[0], tp[1], rg[-1])\n",
        "print(li[0:3], tp[1:], rg[-1:-3])"
      ]
    },
    {
      "cell_type": "code",
      "execution_count": null,
      "metadata": {
        "colab": {
          "base_uri": "https://localhost:8080/"
        },
        "id": "QXuW2c3kcSkZ",
        "outputId": "bd57c72d-6a50-46bc-a71e-1d38e0dde582"
      },
      "outputs": [
        {
          "output_type": "stream",
          "name": "stdout",
          "text": [
            "[0, 1, 2, 3, 4, 5, 6, 7, 8, 9, 10]\n",
            "[0, 1, 2, 3, 4, 5, 6, 7, 8, 9, 10, 11]\n"
          ]
        }
      ],
      "source": [
        "li.append(10)\n",
        "print(li)\n",
        "li.extend([11])\n",
        "print(li)"
      ]
    },
    {
      "cell_type": "code",
      "execution_count": null,
      "metadata": {
        "colab": {
          "base_uri": "https://localhost:8080/"
        },
        "id": "EC7nPOEdcSkZ",
        "outputId": "cbd110f4-9f40-48b9-e9fd-a815f3afcd9c"
      },
      "outputs": [
        {
          "output_type": "stream",
          "name": "stdout",
          "text": [
            "[0, 1, 2, 3, 4, 5, 6, 7, 8, 9, 11]\n",
            "[0, 1, 2, 3, 4, 5, 6, 7, 8, 9]\n"
          ]
        }
      ],
      "source": [
        "li.remove(10) # remove 1st 10\n",
        "print(li)\n",
        "\n",
        "del li[-1]\n",
        "print(li)"
      ]
    },
    {
      "cell_type": "code",
      "execution_count": null,
      "metadata": {
        "colab": {
          "base_uri": "https://localhost:8080/"
        },
        "id": "6uJlVd4lcSkZ",
        "outputId": "61010ce3-0788-4df1-b9c1-a462a9ee86e8"
      },
      "outputs": [
        {
          "output_type": "stream",
          "name": "stdout",
          "text": [
            "[1, 2, 3, 4, 5, 6]\n",
            "[6, 5, 4, 3, 2, 1]\n"
          ]
        }
      ],
      "source": [
        "l = [5, 4, 2, 6, 1, 3]\n",
        "l.sort() # sorts the list in place\n",
        "print(l)\n",
        "l.sort(reverse = True)\n",
        "print(l)"
      ]
    },
    {
      "cell_type": "code",
      "execution_count": null,
      "metadata": {
        "colab": {
          "base_uri": "https://localhost:8080/"
        },
        "id": "8ChOTAEtcSkZ",
        "outputId": "7f60dbe3-c254-40d5-b58b-4dd11df15204"
      },
      "outputs": [
        {
          "output_type": "stream",
          "name": "stdout",
          "text": [
            "('tup',)\n",
            "() 0\n",
            "1 string [1, 2, 3]\n",
            "1 2 3\n",
            "1 2 3\n"
          ]
        }
      ],
      "source": [
        "# tuple has a ugly but effective usage.\n",
        "# Ex. 1\n",
        "tup = \"tup\", \n",
        "print(tup)\n",
        "\n",
        "tup = ()\n",
        "print(tup, len(tup))\n",
        "\n",
        "# Ex. 2\n",
        "tup = (1, \"string\", [1,2,3])\n",
        "x, y, z = tup\n",
        "print(x, y, z)\n",
        "\n",
        "# Ex. 3: return one object\n",
        "def f1(x):\n",
        "    return (x, x+1, x+2)\n",
        "\n",
        "f2 = lambda x: (x, x+1, x+2)\n",
        "\n",
        "x, y, z = f1(1)\n",
        "print(x, y, z)\n",
        "x, y, z = f2(1)\n",
        "print(x, y, z)"
      ]
    },
    {
      "cell_type": "markdown",
      "metadata": {
        "id": "m8tzLAo0cSka"
      },
      "source": [
        "### Text/Binary Sequence Types \n",
        "str: a encoded string;\n",
        "bytes: binary representation of a sequence"
      ]
    },
    {
      "cell_type": "code",
      "execution_count": null,
      "metadata": {
        "colab": {
          "base_uri": "https://localhost:8080/"
        },
        "id": "Y3ZjdirfcSka",
        "outputId": "99438f6e-8ff9-428f-e856-4c7c2362becb"
      },
      "outputs": [
        {
          "output_type": "stream",
          "name": "stdout",
          "text": [
            "0123\n",
            "b'0123'\n",
            "b'0123'\n",
            "0123\n",
            "b'\\xe6\\xad\\xa3\\xe9\\xab\\x94\\xe4\\xb8\\xad\\xe6\\x96\\x87'\n",
            "b'\\xa5\\xbf\\xc5\\xe9\\xa4\\xa4\\xa4\\xe5'\n"
          ]
        }
      ],
      "source": [
        "# string and binary\n",
        "st = \"0123\"\n",
        "bi = b\"0123\"\n",
        "print(st)\n",
        "print(bi)\n",
        "\n",
        "print(st.encode('utf-8'))\n",
        "print(bi.decode('utf-8'))\n",
        "\n",
        "print(\"正體中文\".encode('utf-8'))\n",
        "print(\"正體中文\".encode('big5'))"
      ]
    },
    {
      "cell_type": "code",
      "execution_count": null,
      "metadata": {
        "colab": {
          "base_uri": "https://localhost:8080/"
        },
        "id": "WKtMdqKWcSka",
        "outputId": "5c079602-1335-415d-e63a-8695af7a80b0"
      },
      "outputs": [
        {
          "output_type": "stream",
          "name": "stdout",
          "text": [
            "True\n",
            "False\n",
            "True\n",
            "False\n"
          ]
        }
      ],
      "source": [
        "st = \"abcdefghijk\"\n",
        "\n",
        "print('a' in st)\n",
        "print(4 not in li)\n",
        "print(\"spring\" in tp)\n",
        "print(5 not in rg)"
      ]
    },
    {
      "cell_type": "code",
      "execution_count": null,
      "metadata": {
        "colab": {
          "base_uri": "https://localhost:8080/"
        },
        "id": "4XfUdcOXcSkb",
        "outputId": "001d31c8-7997-4791-ed40-6d8fd001d5e9"
      },
      "outputs": [
        {
          "output_type": "stream",
          "name": "stdout",
          "text": [
            "True\n",
            "False\n",
            "True\n",
            "False\n"
          ]
        }
      ],
      "source": [
        "print(\"abc\" in st)\n",
        "print([1,2,3] in li)\n",
        "\n",
        "print(st.startswith(\"abc\"))\n",
        "print(st.endswith(\"jkl\"))"
      ]
    },
    {
      "cell_type": "code",
      "execution_count": null,
      "metadata": {
        "colab": {
          "base_uri": "https://localhost:8080/"
        },
        "id": "2Zd0_QOWcSkb",
        "outputId": "814fd2d7-a973-43b0-c46e-6f517c6ff80d"
      },
      "outputs": [
        {
          "output_type": "stream",
          "name": "stdout",
          "text": [
            "abcdefghijk12345\n",
            "[0, 1, 2, 3, 4, 5, 6, 7, 8, 9, 'a', 'b', 'c', 'd', 'e', 'f', 'g', 'h', 'i', 'j', 'k']\n"
          ]
        }
      ],
      "source": [
        "print(st + \"12345\")\n",
        "print(li + list(st))"
      ]
    },
    {
      "cell_type": "code",
      "execution_count": null,
      "metadata": {
        "colab": {
          "base_uri": "https://localhost:8080/"
        },
        "id": "3fx3pBWFcSkb",
        "outputId": "039cb90b-713a-4884-ac83-cdf896ab98ad"
      },
      "outputs": [
        {
          "output_type": "stream",
          "name": "stdout",
          "text": [
            "abcdefghijkabcdefghijkabcdefghijkabcdefghijkabcdefghijk\n"
          ]
        }
      ],
      "source": [
        "print(st*5)"
      ]
    },
    {
      "cell_type": "code",
      "execution_count": null,
      "metadata": {
        "colab": {
          "base_uri": "https://localhost:8080/"
        },
        "id": "IrpeM6DUcSkb",
        "outputId": "7cf753e6-d9dd-4c21-93c4-30ac1bf5a46a"
      },
      "outputs": [
        {
          "output_type": "stream",
          "name": "stdout",
          "text": [
            "11\n",
            "e\n",
            "1\n",
            "3\n"
          ]
        }
      ],
      "source": [
        "print(len(st))\n",
        "print(st[4])\n",
        "print(st.index('b'))\n",
        "print((st*3).count('f'))"
      ]
    },
    {
      "cell_type": "code",
      "execution_count": null,
      "metadata": {
        "colab": {
          "base_uri": "https://localhost:8080/"
        },
        "id": "KUNJpyrzcSkb",
        "outputId": "53f663cd-46c2-4878-d633-3a88f167c9e4"
      },
      "outputs": [
        {
          "output_type": "stream",
          "name": "stdout",
          "text": [
            "['this', 'is', 'a', 'book']\n",
            "['line1', 'line2', 'line3']\n",
            "line1\n",
            "line2\n",
            "line3\n"
          ]
        }
      ],
      "source": [
        "# string only: split\n",
        "s = \"this is a book\"\n",
        "tokens = s.split(\" \")\n",
        "print(tokens)\n",
        "\n",
        "p = \"line1\\nline2\\nline3\\n\"\n",
        "lines = p.splitlines()\n",
        "print(lines)\n",
        "\n",
        "p = \"line1 \\n line2 \\n line3 \\n\" # has whitespace\n",
        "lines = p.splitlines()\n",
        "for l in lines:\n",
        "    print(l.strip())"
      ]
    },
    {
      "cell_type": "code",
      "execution_count": null,
      "metadata": {
        "colab": {
          "base_uri": "https://localhost:8080/"
        },
        "id": "crIHvaevcSkc",
        "outputId": "13b1c7b7-92c2-4a67-9649-ac25d90fcf9a"
      },
      "outputs": [
        {
          "output_type": "stream",
          "name": "stdout",
          "text": [
            "a b c 111 000\n",
            "Coordinates: 37.24N, -115.81W\n",
            "X: 3.1;  Y: 5.2\n",
            "int: 42;  hex: 2a;  oct: 52;  bin: 101010\n",
            "1,234,567,890\n",
            "Correct answers: 59.62%\n"
          ]
        }
      ],
      "source": [
        "# format\n",
        "# https://docs.python.org/3/library/stdtypes.html#printf-style-string-formatting\n",
        "\n",
        "coord = (3.1, 5.2)\n",
        "\n",
        "print(\"a b c {1} {0}\".format(\"000\", \"111\"))\n",
        "print(\"Coordinates: {latitude}, {longitude}\".format(latitude='37.24N', longitude='-115.81W'))\n",
        "print(\"X: {0[0]};  Y: {0[1]}\".format(coord))\n",
        "print(\"int: {0:d};  hex: {0:x};  oct: {0:o};  bin: {0:b}\".format(42))\n",
        "print('{:,}'.format(1234567890))\n",
        "print('Correct answers: {:.2%}'.format(coord[0]/coord[1]))"
      ]
    },
    {
      "cell_type": "code",
      "execution_count": null,
      "metadata": {
        "colab": {
          "base_uri": "https://localhost:8080/"
        },
        "id": "dnXDRz4kcSkc",
        "outputId": "ca1698ba-15a3-446c-e359-222304fcff6a"
      },
      "outputs": [
        {
          "output_type": "stream",
          "name": "stdout",
          "text": [
            "left aligned                  \n",
            "                 right aligned\n",
            "           centered           \n",
            "***********centered***********\n"
          ]
        }
      ],
      "source": [
        "print('{:<30}'.format('left aligned'))\n",
        "print('{:>30}'.format('right aligned'))\n",
        "print('{:^30}'.format('centered'))\n",
        "print('{:*^30}'.format('centered'))"
      ]
    },
    {
      "cell_type": "code",
      "execution_count": null,
      "metadata": {
        "colab": {
          "base_uri": "https://localhost:8080/"
        },
        "id": "-xgOvVgdcSkc",
        "outputId": "c509380f-be4f-4bd6-f996-8787c72966c8"
      },
      "outputs": [
        {
          "output_type": "stream",
          "name": "stdout",
          "text": [
            "C0A80001\n"
          ]
        }
      ],
      "source": [
        "octets = [192, 168, 0, 1]\n",
        "print('{:02X}{:02X}{:02X}{:02X}'.format(*octets))"
      ]
    },
    {
      "cell_type": "code",
      "execution_count": null,
      "metadata": {
        "colab": {
          "base_uri": "https://localhost:8080/"
        },
        "id": "PQx9DCwYcSkc",
        "outputId": "38baf153-80c7-4de2-e572-acc99b936a0e"
      },
      "outputs": [
        {
          "output_type": "stream",
          "name": "stdout",
          "text": [
            "[1, 2, 3, 1, 2, 3, 1, 2, 3]\n",
            "[[0, 0, 0], [0, 0, 0], [0, 0, 0]]\n",
            "[[0, 1, 0], [0, 1, 0], [0, 1, 0]]\n"
          ]
        }
      ],
      "source": [
        "# reference and copy\n",
        "\n",
        "li = [1,2,3]\n",
        "print(li*3)\n",
        "lists = [[0]*3]*3\n",
        "print(lists)\n",
        "lists[1][1]=1\n",
        "print(lists)"
      ]
    },
    {
      "cell_type": "code",
      "execution_count": null,
      "metadata": {
        "colab": {
          "base_uri": "https://localhost:8080/"
        },
        "id": "jArg8iSncSkc",
        "outputId": "32e819ee-2dc4-4e1c-9bc3-6a175452dd4f"
      },
      "outputs": [
        {
          "output_type": "stream",
          "name": "stdout",
          "text": [
            "[1, 2, 3]\n",
            "[2, 2, 3]\n"
          ]
        }
      ],
      "source": [
        "a = [1, 2, 3]\n",
        "b = a\n",
        "print(b)\n",
        "b[0] = 2\n",
        "print(a) # b = a is a refernce copy, i.e., a is b"
      ]
    },
    {
      "cell_type": "code",
      "execution_count": null,
      "metadata": {
        "colab": {
          "base_uri": "https://localhost:8080/"
        },
        "id": "3GpX3swQcSkd",
        "outputId": "3ea4588e-5296-4b2a-dd29-821b8763570f"
      },
      "outputs": [
        {
          "output_type": "stream",
          "name": "stdout",
          "text": [
            "[1, 2, 3]\n",
            "[2, 2, 3]\n"
          ]
        }
      ],
      "source": [
        "a = [1, 2, 3]\n",
        "b = a[:] # it is a deep copy, i.e., a is not b\n",
        "b[0] = 2\n",
        "print(a)\n",
        "print(b)"
      ]
    },
    {
      "cell_type": "code",
      "execution_count": null,
      "metadata": {
        "colab": {
          "base_uri": "https://localhost:8080/"
        },
        "id": "cniFhII2cSkd",
        "outputId": "41f293cd-2cff-4d9b-fa9f-3ad1d06efc30"
      },
      "outputs": [
        {
          "output_type": "stream",
          "name": "stdout",
          "text": [
            "[[0, 0, 0], [0, 0, 0], [0, 0, 0]]\n",
            "[[0, 0, 0], [0, 0, 1], [0, 0, 0]]\n"
          ]
        }
      ],
      "source": [
        "matrix  = [[0 for x in range(3)] for x in range(3)]\n",
        "print(matrix)\n",
        "matrix[1][2] = 1\n",
        "print(matrix)"
      ]
    },
    {
      "cell_type": "code",
      "execution_count": null,
      "metadata": {
        "colab": {
          "base_uri": "https://localhost:8080/"
        },
        "id": "Kg1nuXpZcSkd",
        "outputId": "2e3d36a0-3780-48bd-9857-00394021cd9a"
      },
      "outputs": [
        {
          "output_type": "stream",
          "name": "stdout",
          "text": [
            "[[1, 2, 3, 4, 1, 2, 3, 4]]\n",
            "[2, 4, 6, 8]\n",
            "[2, 4, 6, 8]\n"
          ]
        }
      ],
      "source": [
        "a = [1, 2, 3, 4]\n",
        "\n",
        "# what if I need [2, 4, 6, 8]\n",
        "b1 = [a*2] #?\n",
        "b2 = [i*2 for i in a] #?\n",
        "b3 = map(lambda x: x*2, a) #?\n",
        "\n",
        "print(b1)\n",
        "print(b2)\n",
        "print(list(b3))"
      ]
    },
    {
      "cell_type": "markdown",
      "metadata": {
        "id": "5pTJQGZLcSkd"
      },
      "source": [
        "### Set Types\n",
        "set: mutable; frozenset: immutable"
      ]
    },
    {
      "cell_type": "code",
      "execution_count": null,
      "metadata": {
        "colab": {
          "base_uri": "https://localhost:8080/"
        },
        "id": "_sfpkFjMcSkd",
        "outputId": "a69b91d9-d3bb-42c5-c3cf-3f7b40f585e2"
      },
      "outputs": [
        {
          "output_type": "stream",
          "name": "stdout",
          "text": [
            "{'this'}\n",
            "{'a', 'book', 'is', 'this'}\n",
            "4\n",
            "a {'book', 'is', 'this'} 3\n",
            "{'book', 'is', 'this'}\n",
            "set()\n"
          ]
        }
      ],
      "source": [
        "s = set()\n",
        "s.add(\"this\")\n",
        "print(s)\n",
        "s.add(\"is\")\n",
        "s.add(\"a\")\n",
        "s.add(\"book\")\n",
        "print(s)\n",
        "print(len(s))\n",
        "item = s.pop()\n",
        "print(item, s, len(s))\n",
        "s.discard(\"a\")\n",
        "print(s)\n",
        "s.clear()\n",
        "print(s)"
      ]
    },
    {
      "cell_type": "code",
      "execution_count": null,
      "metadata": {
        "colab": {
          "base_uri": "https://localhost:8080/"
        },
        "id": "_SoG0a8hcSke",
        "outputId": "625d613a-1ea5-49bd-87fa-a57c6cc3bc6c"
      },
      "outputs": [
        {
          "output_type": "stream",
          "name": "stdout",
          "text": [
            "{0, 1, 2, 3, 4, 5, 6, 7, 8, 9}\n",
            "True\n",
            "{0, 1, 2, 3, 4, 5, 6, 7, 8, 9}\n",
            "True\n",
            "{0, 1, 2, 3, 4, 6, 7, 8, 9}\n",
            "True\n"
          ]
        }
      ],
      "source": [
        "s = set(range(10))\n",
        "print(s)\n",
        "print(5 in s)\n",
        "\n",
        "s.add(5)\n",
        "print(s)\n",
        "print(5 in s)\n",
        "\n",
        "s.remove(5)\n",
        "print(s)\n",
        "print(5 not in s)"
      ]
    },
    {
      "cell_type": "code",
      "execution_count": null,
      "metadata": {
        "colab": {
          "base_uri": "https://localhost:8080/"
        },
        "id": "NCKZhQfncSke",
        "outputId": "ea71e7a8-b88e-49eb-a967-c4abe4da2c51"
      },
      "outputs": [
        {
          "output_type": "stream",
          "name": "stdout",
          "text": [
            "{1, 2, 3, 4, 5, 6}\n"
          ]
        }
      ],
      "source": [
        "s = {1, 2, 2, 3, 4, 5, 6}\n",
        "print(s)"
      ]
    },
    {
      "cell_type": "code",
      "execution_count": null,
      "metadata": {
        "id": "klrp52_AcSke"
      },
      "outputs": [],
      "source": [
        "# set has no index\n",
        "#print(s[0])"
      ]
    },
    {
      "cell_type": "code",
      "execution_count": null,
      "metadata": {
        "colab": {
          "base_uri": "https://localhost:8080/"
        },
        "id": "UgmK0jFWcSke",
        "outputId": "e30ee71d-0e96-4723-b6d3-52e15fbb5455"
      },
      "outputs": [
        {
          "output_type": "stream",
          "name": "stdout",
          "text": [
            "{1, 2, 3, 4, 5, 6, 7, 8, 9}\n",
            "{4, 5, 6}\n",
            "{8, 9, 7}\n",
            "{1, 2, 3, 7, 8, 9}\n"
          ]
        }
      ],
      "source": [
        "s = {1, 2, 3, 4, 5, 6}\n",
        "t = {4, 5, 6, 7, 8, 9}\n",
        "\n",
        "a = t | s # union\n",
        "b = t & s # intersection\n",
        "c = t - s # difference\n",
        "d = t ^ s # xor\n",
        "\n",
        "print(a)\n",
        "print(b)\n",
        "print(c)\n",
        "print(d)"
      ]
    },
    {
      "cell_type": "code",
      "execution_count": null,
      "metadata": {
        "colab": {
          "base_uri": "https://localhost:8080/"
        },
        "id": "D9bCTK_RcSke",
        "outputId": "e7980595-6196-4c33-a9db-e330f9085c95"
      },
      "outputs": [
        {
          "output_type": "stream",
          "name": "stdout",
          "text": [
            "{1, 2, 3, 4, 5, 6}\n",
            "{5, 6, 7, 8, 9, 10}\n",
            "{5, 6}\n",
            "{1, 2, 3, 4, 5, 6, 7, 8, 9, 10}\n",
            "Jaccard simialarity =  0.2\n"
          ]
        }
      ],
      "source": [
        "s1 = set([1,2,3,4,5,6])\n",
        "s2 = set([5,6,7,8,9,10])\n",
        "\n",
        "print(s1)\n",
        "print(s2)\n",
        "\n",
        "inter = s1.intersection(s2)\n",
        "union = s1.union(s2)\n",
        "\n",
        "print(inter)\n",
        "print(union)\n",
        "\n",
        "print(\"Jaccard simialarity = \", float(len(inter))/float(len(union)))"
      ]
    },
    {
      "cell_type": "markdown",
      "metadata": {
        "id": "gRr6DvbdcSke"
      },
      "source": [
        "### Mapping Types\n",
        "dict"
      ]
    },
    {
      "cell_type": "code",
      "execution_count": null,
      "metadata": {
        "colab": {
          "base_uri": "https://localhost:8080/"
        },
        "id": "nyuQMZircSkf",
        "outputId": "15601613-e8a3-42b0-cf94-d41dc342949f"
      },
      "outputs": [
        {
          "output_type": "stream",
          "name": "stdout",
          "text": [
            "{'one': 1, 'two': 2, 'three': 3}\n",
            "True\n"
          ]
        }
      ],
      "source": [
        "a = dict(one=1, two=2, three=3)\n",
        "b = {'one': 1, 'two': 2, 'three': 3} # most often\n",
        "c = dict(zip(['one', 'two', 'three'], [1, 2, 3]))\n",
        "d = dict([('two', 2), ('one', 1), ('three', 3)])\n",
        "e = dict({'three': 3, 'one': 1, 'two': 2})\n",
        "print(a)\n",
        "print(a == b == c == d == e)"
      ]
    },
    {
      "cell_type": "code",
      "execution_count": null,
      "metadata": {
        "id": "Y-kqwtorcSkf"
      },
      "outputs": [],
      "source": [
        "dic = {1: \"john\", 12: \"joe\", 34: \"george\"}"
      ]
    },
    {
      "cell_type": "code",
      "execution_count": null,
      "metadata": {
        "colab": {
          "base_uri": "https://localhost:8080/"
        },
        "id": "KkJfnbfbcSkf",
        "outputId": "b0898cc3-66a5-4c5a-e827-34c1a94cf48e"
      },
      "outputs": [
        {
          "output_type": "stream",
          "name": "stdout",
          "text": [
            "3\n",
            "1\n"
          ]
        }
      ],
      "source": [
        "print(len(d))\n",
        "print(d['one'])\n",
        "#print(d[0]) # dictionary has no index"
      ]
    },
    {
      "cell_type": "code",
      "execution_count": null,
      "metadata": {
        "colab": {
          "base_uri": "https://localhost:8080/"
        },
        "id": "UBg-n_fOcSkf",
        "outputId": "fb5e1ec3-c157-4bd6-af2a-659665634e4a"
      },
      "outputs": [
        {
          "output_type": "stream",
          "name": "stdout",
          "text": [
            "{'one': 1, 'two': 2, 'three': 3, 'four': 4}\n",
            "{'one': 1, 'three': 3, 'four': 4}\n",
            "True\n",
            "dict_keys(['one', 'three', 'four'])\n",
            "dict_values([1, 3, 4])\n"
          ]
        }
      ],
      "source": [
        "d = {'one': 1, 'two': 2, 'three': 3}\n",
        "d['four'] = 4 # add by key and value\n",
        "print(d)\n",
        "del d['two'] # use key to delete\n",
        "print(d)\n",
        "print('one' in d) # search by key\n",
        "print(d.keys())\n",
        "print(d.values())"
      ]
    },
    {
      "cell_type": "code",
      "execution_count": null,
      "metadata": {
        "colab": {
          "base_uri": "https://localhost:8080/"
        },
        "id": "coZZSuRgcSkf",
        "outputId": "9586b3f8-0ce5-48e7-b966-732c873b73f5"
      },
      "outputs": [
        {
          "output_type": "stream",
          "name": "stdout",
          "text": [
            "one 1\n",
            "two 2\n",
            "three 3\n"
          ]
        }
      ],
      "source": [
        "b = {'one': 1, 'two': 2, 'three': 3}\n",
        "\n",
        "for key, value in b.items():\n",
        "    print(key, value)"
      ]
    },
    {
      "cell_type": "code",
      "execution_count": null,
      "metadata": {
        "colab": {
          "base_uri": "https://localhost:8080/"
        },
        "id": "n1Mul88FcSkf",
        "outputId": "0031ddc3-c754-46ef-8771-6cbafbeb7b29"
      },
      "outputs": [
        {
          "output_type": "stream",
          "name": "stdout",
          "text": [
            "dict_keys(['one', 'two', 'three'])\n",
            "dict_values([1, 2, 3])\n"
          ]
        }
      ],
      "source": [
        "print(b.keys())\n",
        "print(b.values())"
      ]
    },
    {
      "cell_type": "code",
      "execution_count": null,
      "metadata": {
        "colab": {
          "base_uri": "https://localhost:8080/"
        },
        "id": "kV5kyOQpcSkg",
        "outputId": "ce3d1815-81e6-42cd-c33f-ac3172082fd2"
      },
      "outputs": [
        {
          "output_type": "stream",
          "name": "stdout",
          "text": [
            "one 1\n",
            "two 2\n",
            "three 3\n"
          ]
        }
      ],
      "source": [
        "for k in b:\n",
        "    print(k, b[k])"
      ]
    },
    {
      "cell_type": "code",
      "execution_count": null,
      "metadata": {
        "colab": {
          "base_uri": "https://localhost:8080/"
        },
        "id": "RnUoTgNQcSkg",
        "outputId": "8d60ce26-6676-4a46-dc8e-27763f943ae0"
      },
      "outputs": [
        {
          "output_type": "stream",
          "name": "stdout",
          "text": [
            "1\n",
            "2\n",
            "3\n"
          ]
        }
      ],
      "source": [
        "for v in b.values():\n",
        "    print(v)"
      ]
    },
    {
      "cell_type": "markdown",
      "metadata": {
        "id": "UIJxHe1QcSkg"
      },
      "source": [
        "### Customized Complex Types"
      ]
    },
    {
      "cell_type": "code",
      "execution_count": null,
      "metadata": {
        "colab": {
          "base_uri": "https://localhost:8080/"
        },
        "id": "LvJW3ffOcSkg",
        "outputId": "32a097af-5165-4fd6-bfa3-5d7af9a8847f"
      },
      "outputs": [
        {
          "output_type": "stream",
          "name": "stdout",
          "text": [
            "[[1, 2, 3], (4, 5, 6), 'strstr', {'apple': 1, 'orange': [1, 2, 3, 4], 'egg': 'ugly', 'log': (12.3, 4.56)}]\n"
          ]
        }
      ],
      "source": [
        "my_dict = {'apple': 1, 'orange': [1, 2, 3, 4], 'egg': \"ugly\", 'log': (12.3, 4.56)}\n",
        "my_list = [[1,2,3], (4,5,6), \"strstr\", my_dict]\n",
        "\n",
        "print(my_list)"
      ]
    },
    {
      "cell_type": "markdown",
      "metadata": {
        "id": "VRtzoxkAcSkg"
      },
      "source": [
        "### List Comprehensions"
      ]
    },
    {
      "cell_type": "markdown",
      "metadata": {
        "id": "AQ6H2RkqcSkg"
      },
      "source": [
        "[0, 1, 4, 9, 16, 25, 36, 49, 64, 81]"
      ]
    },
    {
      "cell_type": "code",
      "execution_count": null,
      "metadata": {
        "colab": {
          "base_uri": "https://localhost:8080/"
        },
        "id": "oBIkxOu2cSkg",
        "outputId": "62049b20-c465-4114-b78b-aaa50c1fc28e"
      },
      "outputs": [
        {
          "output_type": "stream",
          "name": "stdout",
          "text": [
            "[0, 1, 4, 9, 16, 25, 36, 49, 64, 81]\n"
          ]
        }
      ],
      "source": [
        "squares = []\n",
        "for x in range(10):\n",
        "    squares.append(x**2)\n",
        "    \n",
        "print(squares)"
      ]
    },
    {
      "cell_type": "code",
      "execution_count": null,
      "metadata": {
        "colab": {
          "base_uri": "https://localhost:8080/"
        },
        "id": "rnDa3lbCcSkh",
        "outputId": "7f2aa824-1e7d-4c2e-abf7-2833af8e39e7"
      },
      "outputs": [
        {
          "output_type": "stream",
          "name": "stdout",
          "text": [
            "[0, 1, 4, 9, 16, 25, 36, 49, 64, 81]\n"
          ]
        }
      ],
      "source": [
        "squares = list(map(lambda x: x**2, range(10)))\n",
        "print(squares)"
      ]
    },
    {
      "cell_type": "code",
      "execution_count": null,
      "metadata": {
        "colab": {
          "base_uri": "https://localhost:8080/"
        },
        "id": "bHG9HQAKcSkh",
        "outputId": "cfff0a4b-7406-468c-9c84-7497f1f74c3b"
      },
      "outputs": [
        {
          "output_type": "stream",
          "name": "stdout",
          "text": [
            "[0, 1, 4, 9, 16, 25, 36, 49, 64, 81]\n"
          ]
        }
      ],
      "source": [
        "squares = [x**2 for x in range(10)]\n",
        "print(squares)"
      ]
    },
    {
      "cell_type": "markdown",
      "metadata": {
        "id": "x2B0Vi6EcSkh"
      },
      "source": [
        "[(1, 3), (1, 4), (2, 3), (2, 1), (2, 4), (3, 1), (3, 4)]"
      ]
    },
    {
      "cell_type": "code",
      "execution_count": null,
      "metadata": {
        "colab": {
          "base_uri": "https://localhost:8080/"
        },
        "id": "gx3liqu6cSkh",
        "outputId": "0022a70c-2473-43e4-a79e-e57bd446ef50"
      },
      "outputs": [
        {
          "output_type": "stream",
          "name": "stdout",
          "text": [
            "[(1, 3), (1, 4), (2, 3), (2, 1), (2, 4), (3, 1), (3, 4)]\n"
          ]
        }
      ],
      "source": [
        "combs = []\n",
        "for x in [1,2,3]:\n",
        "    for y in [3,1,4]:\n",
        "        if x != y:\n",
        "            combs.append((x, y))\n",
        "\n",
        "print(combs)"
      ]
    },
    {
      "cell_type": "code",
      "execution_count": null,
      "metadata": {
        "colab": {
          "base_uri": "https://localhost:8080/"
        },
        "id": "ZFBE-FXwcSkh",
        "outputId": "7a3621db-9756-43af-ebf7-b43923cb6cb7"
      },
      "outputs": [
        {
          "output_type": "execute_result",
          "data": {
            "text/plain": [
              "[(1, 3), (1, 4), (2, 3), (2, 1), (2, 4), (3, 1), (3, 4)]"
            ]
          },
          "metadata": {},
          "execution_count": 89
        }
      ],
      "source": [
        "[(x, y) for x in [1,2,3] for y in [3,1,4] if x != y]"
      ]
    },
    {
      "cell_type": "markdown",
      "metadata": {
        "id": "tyF9UoWHcSkh"
      },
      "source": [
        "comprehensions"
      ]
    },
    {
      "cell_type": "code",
      "execution_count": null,
      "metadata": {
        "colab": {
          "base_uri": "https://localhost:8080/"
        },
        "id": "whvFOJrzcSkh",
        "outputId": "f862492f-3fe9-4c3c-c90c-034022cd572c"
      },
      "outputs": [
        {
          "output_type": "stream",
          "name": "stdout",
          "text": [
            "[-8, -4, 0, 4, 8]\n",
            "[0, 2, 4]\n",
            "[4, 2, 0, 2, 4]\n"
          ]
        }
      ],
      "source": [
        "vec = [-4, -2, 0, 2, 4]\n",
        "print([x*2 for x in vec])\n",
        "print([x for x in vec if x >= 0])\n",
        "print([abs(x) for x in vec])"
      ]
    },
    {
      "cell_type": "code",
      "execution_count": null,
      "metadata": {
        "colab": {
          "base_uri": "https://localhost:8080/"
        },
        "id": "6rlIMUEQcSki",
        "outputId": "599051a0-e658-4d96-e929-f80b4af9c542"
      },
      "outputs": [
        {
          "output_type": "stream",
          "name": "stdout",
          "text": [
            "[1, 2, 3, 4, 5, 6, 7, 8, 9]\n"
          ]
        }
      ],
      "source": [
        "vec = [[1,2,3], [4,5,6], [7,8,9]]\n",
        "print([num for elem in vec for num in elem])"
      ]
    },
    {
      "cell_type": "code",
      "execution_count": null,
      "metadata": {
        "colab": {
          "base_uri": "https://localhost:8080/"
        },
        "id": "mYkIamlscSki",
        "outputId": "339173e1-f8e1-487f-f113-b771854260a2"
      },
      "outputs": [
        {
          "output_type": "stream",
          "name": "stdout",
          "text": [
            "['3.1', '3.14', '3.142', '3.1416', '3.14159']\n"
          ]
        }
      ],
      "source": [
        "from math import pi\n",
        "print([str(round(pi, i)) for i in range(1, 6)])"
      ]
    },
    {
      "cell_type": "markdown",
      "metadata": {
        "id": "0cDFTatfcSki"
      },
      "source": [
        "### set comprehensions"
      ]
    },
    {
      "cell_type": "code",
      "execution_count": null,
      "metadata": {
        "colab": {
          "base_uri": "https://localhost:8080/"
        },
        "id": "1yNQlhEVcSki",
        "outputId": "cdac4c16-a2fa-4cef-d70f-3b64e8a045f0"
      },
      "outputs": [
        {
          "output_type": "stream",
          "name": "stdout",
          "text": [
            "{'r', 'd'}\n"
          ]
        }
      ],
      "source": [
        "print({x for x in 'abracadabra' if x not in 'abc'})"
      ]
    },
    {
      "cell_type": "markdown",
      "metadata": {
        "id": "_bwSYOnScSki"
      },
      "source": [
        "### dict comprehensions"
      ]
    },
    {
      "cell_type": "code",
      "execution_count": null,
      "metadata": {
        "colab": {
          "base_uri": "https://localhost:8080/"
        },
        "id": "cTi3vv90cSki",
        "outputId": "7282ba54-88f1-4258-bfc5-1065e58e0e69"
      },
      "outputs": [
        {
          "output_type": "stream",
          "name": "stdout",
          "text": [
            "{2: 4, 4: 16, 6: 36}\n"
          ]
        }
      ],
      "source": [
        "print({x: x**2 for x in (2, 4, 6)})"
      ]
    },
    {
      "cell_type": "markdown",
      "metadata": {
        "id": "rlZAxhiScSki"
      },
      "source": [
        "### Nested List Comprehensions"
      ]
    },
    {
      "cell_type": "code",
      "execution_count": null,
      "metadata": {
        "id": "hNfL6b_ecSki"
      },
      "outputs": [],
      "source": [
        "matrix = [\n",
        "    [1, 2, 3, 4],\n",
        "    [5, 6, 7, 8],\n",
        "    [9, 10, 11, 12],\n",
        "]"
      ]
    },
    {
      "cell_type": "code",
      "execution_count": null,
      "metadata": {
        "colab": {
          "base_uri": "https://localhost:8080/"
        },
        "id": "ZM5bew0GcSki",
        "outputId": "d9961d64-274e-4bbc-be88-aa230e6c82ca"
      },
      "outputs": [
        {
          "output_type": "stream",
          "name": "stdout",
          "text": [
            "[[1, 5, 9], [2, 6, 10], [3, 7, 11], [4, 8, 12]]\n"
          ]
        }
      ],
      "source": [
        "transposed = []\n",
        "for i in range(4):\n",
        "    transposed_row = []\n",
        "    for row in matrix:\n",
        "        transposed_row.append(row[i])\n",
        "    transposed.append(transposed_row)\n",
        "    \n",
        "print(transposed)"
      ]
    },
    {
      "cell_type": "code",
      "execution_count": null,
      "metadata": {
        "colab": {
          "base_uri": "https://localhost:8080/"
        },
        "id": "Uouf4brLcSkj",
        "outputId": "beb0c978-8d6a-4028-db00-fcfeae5a2862"
      },
      "outputs": [
        {
          "output_type": "stream",
          "name": "stdout",
          "text": [
            "[[1, 5, 9], [2, 6, 10], [3, 7, 11], [4, 8, 12]]\n"
          ]
        }
      ],
      "source": [
        "transposed = []\n",
        "for i in range(4):\n",
        "    transposed.append([row[i] for row in matrix])\n",
        "\n",
        "print(transposed)"
      ]
    },
    {
      "cell_type": "code",
      "execution_count": null,
      "metadata": {
        "colab": {
          "base_uri": "https://localhost:8080/"
        },
        "id": "ufjiUEDecSkj",
        "outputId": "8ff0985b-30ba-4704-a67d-9c2d49a2a266"
      },
      "outputs": [
        {
          "output_type": "stream",
          "name": "stdout",
          "text": [
            "[[1, 5, 9], [2, 6, 10], [3, 7, 11], [4, 8, 12]]\n"
          ]
        }
      ],
      "source": [
        "print([[row[i] for row in matrix] for i in range(4)])"
      ]
    },
    {
      "cell_type": "code",
      "execution_count": null,
      "metadata": {
        "colab": {
          "base_uri": "https://localhost:8080/"
        },
        "id": "s9EkUpOwcSkj",
        "outputId": "44cb8590-4fb4-4ce7-d0d4-185263fe951f"
      },
      "outputs": [
        {
          "output_type": "stream",
          "name": "stdout",
          "text": [
            "[(1, 5, 9), (2, 6, 10), (3, 7, 11), (4, 8, 12)]\n"
          ]
        }
      ],
      "source": [
        "# In the real world, you should prefer built-in functions to complex flow statements.\n",
        "\n",
        "print(list(zip(*matrix)))"
      ]
    },
    {
      "cell_type": "markdown",
      "metadata": {
        "id": "8iobuVWhcSkj"
      },
      "source": [
        "### Do not change a list while you are looping over it"
      ]
    },
    {
      "cell_type": "code",
      "execution_count": null,
      "metadata": {
        "colab": {
          "base_uri": "https://localhost:8080/"
        },
        "id": "59nyz8dCcSkj",
        "outputId": "01a8d760-9f0c-469a-b622-0c79bb39fa3b"
      },
      "outputs": [
        {
          "output_type": "stream",
          "name": "stdout",
          "text": [
            "[56.2, 51.7, 55.3, 52.5, 47.8]\n"
          ]
        }
      ],
      "source": [
        "import math\n",
        "raw_data = [56.2, float('NaN'), 51.7, 55.3, 52.5, float('NaN'), 47.8]\n",
        "filtered_data = []\n",
        "for value in raw_data:\n",
        "    if not math.isnan(value):\n",
        "        filtered_data.append(value)\n",
        "        \n",
        "print(filtered_data)"
      ]
    },
    {
      "cell_type": "markdown",
      "metadata": {
        "id": "EVAF01RRcSkj"
      },
      "source": [
        "### Fun and useless"
      ]
    },
    {
      "cell_type": "code",
      "execution_count": null,
      "metadata": {
        "colab": {
          "base_uri": "https://localhost:8080/"
        },
        "id": "veE7SpQjcSkj",
        "outputId": "0644a634-6479-434a-f6b6-c8752ab660c5"
      },
      "outputs": [
        {
          "output_type": "stream",
          "name": "stdout",
          "text": [
            "True\n",
            "True\n",
            "True\n",
            "True\n",
            "True\n",
            "True\n",
            "True\n"
          ]
        }
      ],
      "source": [
        "print((1, 2, 3) < (1, 2, 4))\n",
        "print([1, 2, 3] < [1, 2, 4])\n",
        "print('ABC' < 'C' < 'Pascal' < 'Python')\n",
        "print((1, 2, 3, 4) < (1, 2, 4))\n",
        "print((1, 2) < (1, 2, -1))\n",
        "print((1, 2, 3) == (1.0, 2.0, 3.0))\n",
        "print((1, 2, ('aa', 'ab')) < (1, 2, ('abc', 'a'), 4))"
      ]
    }
  ],
  "metadata": {
    "kernelspec": {
      "display_name": "Python 3",
      "language": "python",
      "name": "python3"
    },
    "language_info": {
      "codemirror_mode": {
        "name": "ipython",
        "version": 3
      },
      "file_extension": ".py",
      "mimetype": "text/x-python",
      "name": "python",
      "nbconvert_exporter": "python",
      "pygments_lexer": "ipython3",
      "version": "3.6.7"
    },
    "colab": {
      "name": "P02_PythonBuiltinTypes.ipynb",
      "provenance": [],
      "collapsed_sections": [
        "83S51zkqcSkX",
        "pFgUwNQCcSkY",
        "m8tzLAo0cSka"
      ],
      "toc_visible": true
    }
  },
  "nbformat": 4,
  "nbformat_minor": 0
}